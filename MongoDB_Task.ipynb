{
 "cells": [
  {
   "cell_type": "code",
   "execution_count": 233,
   "id": "3bd87cb9",
   "metadata": {},
   "outputs": [],
   "source": [
    "import pymongo\n",
    "import pandas as pd"
   ]
  },
  {
   "cell_type": "code",
   "execution_count": 355,
   "id": "d8f57f87",
   "metadata": {},
   "outputs": [],
   "source": [
    "client = pymongo.MongoClient(\"<Your DB Connection>\")\n",
    "db = client.MongoTask\n",
    "col = db.Students\n",
    "test_dtl = db.Test_details\n",
    "bel_avg = db.Below_average\n",
    "fail = db.failed_students\n",
    "passed = db.passed_students"
   ]
  },
  {
   "cell_type": "markdown",
   "id": "dc63cf8b",
   "metadata": {},
   "source": []
  },
  {
   "cell_type": "markdown",
   "id": "a79e6095",
   "metadata": {},
   "source": [
    "#### 1. Find students who scored below average in the exam and pass mark is 40%?"
   ]
  },
  {
   "cell_type": "code",
   "execution_count": 289,
   "id": "b7ab3c38",
   "metadata": {},
   "outputs": [
    {
     "name": "stdout",
     "output_type": "stream",
     "text": [
      "{'_id': 'exam', 'average': 48.67367075950175}\n"
     ]
    }
   ],
   "source": [
    "# Finding Average\n",
    "a = col.aggregate(\n",
    "[\n",
    "    {'$unwind':'$scores'},\n",
    "    {'$match':{'scores.type':'exam'}},\n",
    "    {'$group':\n",
    "    {\n",
    "        '_id':'$scores.type',\n",
    "        'average':{'$avg':'$scores.score'}\n",
    "    }},\n",
    "    {'$project':{'_id':1,'average':1}}\n",
    "])\n",
    "for i in a:\n",
    "    print(i)"
   ]
  },
  {
   "cell_type": "code",
   "execution_count": 310,
   "id": "d8baa094",
   "metadata": {},
   "outputs": [
    {
     "name": "stdout",
     "output_type": "stream",
     "text": [
      "Wilburn Spiess\n",
      "Denisha Cast\n",
      "Gisela Levin\n",
      "Tressa Schwing\n",
      "Rosana Vales\n",
      "Tamika Schildgen\n",
      "Gwyneth Garling\n",
      "Kayce Kenyon\n",
      "Terica Brugger\n",
      "Chad Rahe\n",
      "Jenise Mcguffie\n",
      "Cassi Heal\n",
      "Demarcus Audette\n",
      "Flora Duell\n",
      "Quincy Danaher\n",
      "Alix Sherrill\n",
      "Laureen Salomone\n",
      "Gwyneth Garling\n",
      "Aleida Elsass\n",
      "Alica Pasley\n",
      "Malisa Jeanes\n",
      "Harriett Velarde\n",
      "Mariela Sherer\n"
     ]
    }
   ],
   "source": [
    "a = col.aggregate(\n",
    "[\n",
    "    {'$unwind':'$scores'},\n",
    "    {'$match':{'scores.type':'exam'}},\n",
    "    {'$group':\n",
    "    {\n",
    "        '_id':'$scores.type',\n",
    "        'average':{'$avg':'$scores.score'}\n",
    "    }},\n",
    "    {'$project':{'_id':0,'average':1}}\n",
    "])\n",
    "for i in a:\n",
    "    average = i['average']\n",
    "res = col.find({'scores':\n",
    "                {'$elemMatch':\n",
    "                  {'$and':\n",
    "                    [{'type':'exam'},{'score':{'$gte':40,'$lt':average}}]}}},\n",
    "                   {'_id':0})\n",
    "for i in res:\n",
    "    print(i['name'])"
   ]
  },
  {
   "cell_type": "markdown",
   "id": "d68dd8e0",
   "metadata": {},
   "source": []
  },
  {
   "cell_type": "markdown",
   "id": "5beb3c46",
   "metadata": {},
   "source": [
    "#### 2. Find the student name who scored maximum scores in all (exam, quiz and homework)?"
   ]
  },
  {
   "cell_type": "code",
   "execution_count": 118,
   "id": "e51018d6",
   "metadata": {},
   "outputs": [
    {
     "name": "stdout",
     "output_type": "stream",
     "text": [
      "{'name': 'Margart Vitello', 'scores': {'score': 99.33685767140612}}\n"
     ]
    }
   ],
   "source": [
    "# exam\n",
    "a = col.aggregate(\n",
    "[\n",
    "    {'$unwind':'$scores'},\n",
    "    {'$match':{'scores.type':'exam'}},\n",
    "    {'$sort':{'scores.score':-1}},\n",
    "    {'$project':{'_id':0,'name':1,'scores.score':1}},\n",
    "    {'$limit':1}\n",
    "])\n",
    "for i in a:\n",
    "    print(i)"
   ]
  },
  {
   "cell_type": "code",
   "execution_count": 119,
   "id": "e0f4c56c",
   "metadata": {},
   "outputs": [
    {
     "name": "stdout",
     "output_type": "stream",
     "text": [
      "{'name': 'Cody Strouth', 'scores': {'score': 99.80348240553108}}\n"
     ]
    }
   ],
   "source": [
    "# quiz\n",
    "a = col.aggregate(\n",
    "[\n",
    "    {'$unwind':'$scores'},\n",
    "    {'$match':{'scores.type':'quiz'}},\n",
    "    {'$sort':{'scores.score':-1}},\n",
    "    {'$project':{'_id':0,'name':1,'scores.score':1}},\n",
    "    {'$limit':1}\n",
    "])\n",
    "for i in a:\n",
    "    print(i)"
   ]
  },
  {
   "cell_type": "code",
   "execution_count": 120,
   "id": "96f818c3",
   "metadata": {},
   "outputs": [
    {
     "name": "stdout",
     "output_type": "stream",
     "text": [
      "{'name': 'Whitley Fears', 'scores': {'score': 99.77237745070993}}\n"
     ]
    }
   ],
   "source": [
    "# homework\n",
    "a = col.aggregate(\n",
    "[\n",
    "    {'$unwind':'$scores'},\n",
    "    {'$match':{'scores.type':'homework'}},\n",
    "    {'$sort':{'scores.score':-1}},\n",
    "    {'$project':{'_id':0,'name':1,'scores.score':1}},\n",
    "    {'$limit':1}\n",
    "])\n",
    "for i in a:\n",
    "    print(i)"
   ]
  },
  {
   "cell_type": "markdown",
   "id": "93a05c6a",
   "metadata": {},
   "source": []
  },
  {
   "cell_type": "markdown",
   "id": "af782028",
   "metadata": {},
   "source": [
    "#### 3. Find students who scored below pass mark and assigned them as fail, and above pass mark as pass in all the categories."
   ]
  },
  {
   "cell_type": "code",
   "execution_count": 272,
   "id": "6e159808",
   "metadata": {},
   "outputs": [],
   "source": [
    "# exam\n",
    "a = col.aggregate(\n",
    "[\n",
    "    {'$unwind':'$scores'},\n",
    "    {'$match':{'scores.type':'exam'}},\n",
    "    {'$project':{'_id':1,'name':1,'score':'$scores.score'}}\n",
    "])\n",
    "for  i in a:\n",
    "    if i['score'] >= 40:\n",
    "        ins = col.update_one({'_id':i['_id']},{'$set':{'scores.0.status':'Pass'}})\n",
    "    else:\n",
    "        ins = col.update_one({'_id':i['_id']},{'$set':{'scores.0.status':'Fail'}})"
   ]
  },
  {
   "cell_type": "code",
   "execution_count": 273,
   "id": "a00a3aaf",
   "metadata": {},
   "outputs": [],
   "source": [
    "# quiz\n",
    "a = col.aggregate(\n",
    "[\n",
    "    {'$unwind':'$scores'},\n",
    "    {'$match':{'scores.type':'quiz'}},\n",
    "    {'$project':{'_id':1,'name':1,'score':'$scores.score'}}\n",
    "])\n",
    "for  i in a:\n",
    "    if i['score'] >= 40:\n",
    "        ins = col.update_one({'_id':i['_id']},{'$set':{'scores.1.status':'Pass'}})\n",
    "    else:\n",
    "        ins = col.update_one({'_id':i['_id']},{'$set':{'scores.1.status':'Fail'}})"
   ]
  },
  {
   "cell_type": "code",
   "execution_count": 274,
   "id": "725afe31",
   "metadata": {},
   "outputs": [],
   "source": [
    "# homework\n",
    "a = col.aggregate(\n",
    "[\n",
    "    {'$unwind':'$scores'},\n",
    "    {'$match':{'scores.type':'homework'}},\n",
    "    {'$project':{'_id':1,'name':1,'score':'$scores.score'}}\n",
    "])\n",
    "for  i in a:\n",
    "    if i['score'] >= 40:\n",
    "        ins = col.update_one({'_id':i['_id']},{'$set':{'scores.2.status':'Pass'}})\n",
    "    else:\n",
    "        ins = col.update_one({'_id':i['_id']},{'$set':{'scores.2.status':'Fail'}})"
   ]
  },
  {
   "cell_type": "markdown",
   "id": "c6548c0f",
   "metadata": {},
   "source": []
  },
  {
   "cell_type": "markdown",
   "id": "0ca19930",
   "metadata": {},
   "source": [
    "#### 4. Find the total and average of the exam, quiz and homework and store them in a separate collection"
   ]
  },
  {
   "cell_type": "code",
   "execution_count": 316,
   "id": "7cd23826",
   "metadata": {},
   "outputs": [
    {
     "name": "stdout",
     "output_type": "stream",
     "text": [
      "{'_id': 'exam', 'Average': 48.67367075950175, 'Sum': 9734.734151900351}\n",
      "True\n",
      "{'_id': 'homework', 'Average': 67.81869620661149, 'Sum': 13563.739241322297}\n",
      "True\n",
      "{'_id': 'quiz', 'Average': 48.99672319430254, 'Sum': 9799.344638860508}\n",
      "True\n"
     ]
    }
   ],
   "source": [
    "a = col.aggregate(\n",
    "[\n",
    "    {'$unwind':'$scores'},\n",
    "    {'$group':\n",
    "    {\n",
    "        '_id':'$scores.type',\n",
    "        'Average':{'$avg':'$scores.score'},\n",
    "        'Sum' : {'$sum':'$scores.score'}\n",
    "    }},\n",
    "    {'$project':{'_id':1,'Average':1,'Sum':1}}\n",
    "])\n",
    "for i in a:\n",
    "    print(i)\n",
    "    ins = test_dtl.insert_one(i)\n",
    "    print(ins.acknowledged)"
   ]
  },
  {
   "cell_type": "markdown",
   "id": "f68ad76b",
   "metadata": {},
   "source": []
  },
  {
   "cell_type": "markdown",
   "id": "55b24471",
   "metadata": {},
   "source": [
    "#### 5. Create a new collection which consists of students who scored below average and above 40% in all the categories."
   ]
  },
  {
   "cell_type": "code",
   "execution_count": 327,
   "id": "140bd9bf",
   "metadata": {},
   "outputs": [
    {
     "name": "stdout",
     "output_type": "stream",
     "text": [
      "Exam Average = 48.67367075950175 HomeWork Average = 67.81869620661149 Quiz Average = 48.99672319430254\n"
     ]
    }
   ],
   "source": [
    "#exam\n",
    "a = col.aggregate(\n",
    "[\n",
    "    {'$unwind':'$scores'},\n",
    "    {'$group':\n",
    "    {\n",
    "        '_id':'$scores.type',\n",
    "        'average':{'$avg':'$scores.score'}\n",
    "    }},\n",
    "    {'$project':{'_id':1,'average':1}}\n",
    "])\n",
    "for i in a:\n",
    "    if i['_id'] == 'exam':\n",
    "        exam_avg = i['average']\n",
    "    elif i['_id'] == 'homework':\n",
    "        hw_avg = i['average']\n",
    "    else:\n",
    "        quiz_avg = i['average']\n",
    "print('Exam Average = '+str(exam_avg)+' HomeWork Average = '+str(hw_avg)+' Quiz Average = '+str(quiz_avg))"
   ]
  },
  {
   "cell_type": "code",
   "execution_count": 345,
   "id": "30aea319",
   "metadata": {},
   "outputs": [
    {
     "name": "stdout",
     "output_type": "stream",
     "text": [
      "Inserted Documents: 23\n"
     ]
    }
   ],
   "source": [
    "result = col.find(\n",
    "{\n",
    "    'scores':{\n",
    "        '$elemMatch':\n",
    "        {'$and':[{'type':'exam','score':{'$gte':40,'$lt':exam_avg}}]},\n",
    "    }\n",
    "},{'_id':0})\n",
    "cnt = 0\n",
    "for i in result:\n",
    "    ack = bel_avg.insert_one(i)\n",
    "    if ack.acknowledged == True:\n",
    "        cnt +=  1\n",
    "print('Inserted Documents: '+str(cnt))"
   ]
  },
  {
   "cell_type": "code",
   "execution_count": 346,
   "id": "7f12a46a",
   "metadata": {},
   "outputs": [
    {
     "name": "stdout",
     "output_type": "stream",
     "text": [
      "Inserted Documents: 19\n"
     ]
    }
   ],
   "source": [
    "result = col.find(\n",
    "{\n",
    "    'scores':{\n",
    "        '$elemMatch':\n",
    "        {'$and':[{'type':'quiz','score':{'$gte':40,'$lt':quiz_avg}}]},\n",
    "    }\n",
    "},{'_id':0})\n",
    "cnt = 0\n",
    "for i in result:\n",
    "    ack = bel_avg.insert_one(i)\n",
    "    if ack.acknowledged == True:\n",
    "        cnt +=  1\n",
    "print('Inserted Documents: '+str(cnt))"
   ]
  },
  {
   "cell_type": "code",
   "execution_count": 347,
   "id": "51ec76d5",
   "metadata": {},
   "outputs": [
    {
     "name": "stdout",
     "output_type": "stream",
     "text": [
      "Inserted Documents: 61\n"
     ]
    }
   ],
   "source": [
    "result = col.find(\n",
    "{\n",
    "    'scores':{\n",
    "        '$elemMatch':\n",
    "        {'$and':[{'type':'homework','score':{'$gte':40,'$lt':hw_avg}}]},\n",
    "    }\n",
    "},{'_id':0})\n",
    "cnt = 0\n",
    "for i in result:\n",
    "    ack = bel_avg.insert_one(i)\n",
    "    if ack.acknowledged == True:\n",
    "        cnt +=  1\n",
    "print('Inserted Documents: '+str(cnt))"
   ]
  },
  {
   "cell_type": "markdown",
   "id": "7203db06",
   "metadata": {},
   "source": []
  },
  {
   "cell_type": "markdown",
   "id": "af159492",
   "metadata": {},
   "source": [
    "#### 6. Create a new collection which consists of students who scored below the fail mark in all the categories."
   ]
  },
  {
   "cell_type": "code",
   "execution_count": 359,
   "id": "f851b36f",
   "metadata": {},
   "outputs": [
    {
     "name": "stdout",
     "output_type": "stream",
     "text": [
      "Inserted Documents: 81\n"
     ]
    }
   ],
   "source": [
    "result = col.find(\n",
    "{\n",
    "    'scores':{\n",
    "        '$elemMatch':\n",
    "        {'$and':[{'type':'exam','score':{'$lt':40}}]},\n",
    "    }\n",
    "},{'_id':0})\n",
    "cnt = 0\n",
    "for i in result:\n",
    "    ack = fail.insert_one(i)\n",
    "    if ack.acknowledged == True:\n",
    "        cnt +=  1\n",
    "print('Inserted Documents: '+str(cnt))"
   ]
  },
  {
   "cell_type": "code",
   "execution_count": 360,
   "id": "1800bb74",
   "metadata": {},
   "outputs": [
    {
     "name": "stdout",
     "output_type": "stream",
     "text": [
      "Inserted Documents: 86\n"
     ]
    }
   ],
   "source": [
    "result = col.find(\n",
    "{\n",
    "    'scores':{\n",
    "        '$elemMatch':\n",
    "        {'$and':[{'type':'quiz','score':{'$lt':40}}]},\n",
    "    }\n",
    "},{'_id':0})\n",
    "cnt = 0\n",
    "for i in result:\n",
    "    ack = fail.insert_one(i)\n",
    "    if ack.acknowledged == True:\n",
    "        cnt +=  1\n",
    "print('Inserted Documents: '+str(cnt))"
   ]
  },
  {
   "cell_type": "code",
   "execution_count": 361,
   "id": "5a53417a",
   "metadata": {},
   "outputs": [
    {
     "name": "stdout",
     "output_type": "stream",
     "text": [
      "Inserted Documents: 29\n"
     ]
    }
   ],
   "source": [
    "result = col.find(\n",
    "{\n",
    "    'scores':{\n",
    "        '$elemMatch':\n",
    "        {'$and':[{'type':'homework','score':{'$lt':40}}]},\n",
    "    }\n",
    "},{'_id':0})\n",
    "cnt = 0\n",
    "for i in result:\n",
    "    ack = fail.insert_one(i)\n",
    "    if ack.acknowledged == True:\n",
    "        cnt +=  1\n",
    "print('Inserted Documents: '+str(cnt))"
   ]
  },
  {
   "cell_type": "markdown",
   "id": "8c26bda9",
   "metadata": {},
   "source": []
  },
  {
   "cell_type": "markdown",
   "id": "a9e6db15",
   "metadata": {},
   "source": [
    "#### 7. Create a new collection which consists of students who scored above pass mark in all the categories."
   ]
  },
  {
   "cell_type": "code",
   "execution_count": 362,
   "id": "47711eba",
   "metadata": {},
   "outputs": [
    {
     "name": "stdout",
     "output_type": "stream",
     "text": [
      "Inserted Documents: 119\n"
     ]
    }
   ],
   "source": [
    "result = col.find(\n",
    "{\n",
    "    'scores':{\n",
    "        '$elemMatch':\n",
    "        {'$and':[{'type':'exam','score':{'$gte':40}}]},\n",
    "    }\n",
    "},{'_id':0})\n",
    "cnt = 0\n",
    "for i in result:\n",
    "    ack = passed.insert_one(i)\n",
    "    if ack.acknowledged == True:\n",
    "        cnt +=  1\n",
    "print('Inserted Documents: '+str(cnt))"
   ]
  },
  {
   "cell_type": "code",
   "execution_count": 363,
   "id": "223bdf88",
   "metadata": {},
   "outputs": [
    {
     "name": "stdout",
     "output_type": "stream",
     "text": [
      "Inserted Documents: 114\n"
     ]
    }
   ],
   "source": [
    "result = col.find(\n",
    "{\n",
    "    'scores':{\n",
    "        '$elemMatch':\n",
    "        {'$and':[{'type':'quiz','score':{'$gte':40}}]},\n",
    "    }\n",
    "},{'_id':0})\n",
    "cnt = 0\n",
    "for i in result:\n",
    "    ack = passed.insert_one(i)\n",
    "    if ack.acknowledged == True:\n",
    "        cnt +=  1\n",
    "print('Inserted Documents: '+str(cnt))"
   ]
  },
  {
   "cell_type": "code",
   "execution_count": 364,
   "id": "f5a64704",
   "metadata": {},
   "outputs": [
    {
     "name": "stdout",
     "output_type": "stream",
     "text": [
      "Inserted Documents: 171\n"
     ]
    }
   ],
   "source": [
    "result = col.find(\n",
    "{\n",
    "    'scores':{\n",
    "        '$elemMatch':\n",
    "        {'$and':[{'type':'homework','score':{'$gte':40}}]},\n",
    "    }\n",
    "},{'_id':0})\n",
    "cnt = 0\n",
    "for i in result:\n",
    "    ack = passed.insert_one(i)\n",
    "    if ack.acknowledged == True:\n",
    "        cnt +=  1\n",
    "print('Inserted Documents: '+str(cnt))"
   ]
  }
 ],
 "metadata": {
  "kernelspec": {
   "display_name": "Python 3 (ipykernel)",
   "language": "python",
   "name": "python3"
  },
  "language_info": {
   "codemirror_mode": {
    "name": "ipython",
    "version": 3
   },
   "file_extension": ".py",
   "mimetype": "text/x-python",
   "name": "python",
   "nbconvert_exporter": "python",
   "pygments_lexer": "ipython3",
   "version": "3.9.13"
  }
 },
 "nbformat": 4,
 "nbformat_minor": 5
}
