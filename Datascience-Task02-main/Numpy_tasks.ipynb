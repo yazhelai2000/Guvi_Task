{
  "cells": [
    {
      "cell_type": "markdown",
      "metadata": {
        "id": "Sf8zB77ZeRyR"
      },
      "source": [
        "# Numpy\n",
        "\n"
      ]
    },
    {
      "cell_type": "markdown",
      "metadata": {
        "id": "oAa3X7NqeRya"
      },
      "source": [
        "#### 1. Import the numpy package under the name `np` (★☆☆) \n",
        "(**hint**: import … as …)"
      ]
    },
    {
      "cell_type": "code",
      "execution_count": null,
      "metadata": {
        "collapsed": true,
        "id": "bcD_Glc2eRyd"
      },
      "outputs": [],
      "source": [
        "import numpy as np"
      ]
    },
    {
      "cell_type": "markdown",
      "metadata": {
        "id": "KgNiekm9eRye"
      },
      "source": [
        "#### 2. Print the numpy version and the configuration (★☆☆) \n",
        "(**hint**: np.\\_\\_version\\_\\_, np.show\\_config)"
      ]
    },
    {
      "cell_type": "code",
      "execution_count": null,
      "metadata": {
        "id": "A85JLoeyeRyf",
        "colab": {
          "base_uri": "https://localhost:8080/"
        },
        "outputId": "f91a8a1b-11b6-4643-eead-c28be9c4f0d6"
      },
      "outputs": [
        {
          "output_type": "stream",
          "name": "stdout",
          "text": [
            "1.21.6\n",
            "<function show at 0x7f95badfc440>\n"
          ]
        }
      ],
      "source": [
        "print(np.__version__)\n",
        "print(np.show_config)"
      ]
    },
    {
      "cell_type": "markdown",
      "metadata": {
        "id": "FOxirJ5oeRyg"
      },
      "source": [
        "#### 3. Create a null vector of size 10 (★☆☆) \n",
        "(**hint**: np.zeros)"
      ]
    },
    {
      "cell_type": "code",
      "execution_count": null,
      "metadata": {
        "id": "emaAk7wmeRyj",
        "colab": {
          "base_uri": "https://localhost:8080/"
        },
        "outputId": "d6ed5942-f95c-45ed-83ca-c343457a4a7f"
      },
      "outputs": [
        {
          "output_type": "stream",
          "name": "stdout",
          "text": [
            "[0. 0. 0. 0. 0. 0. 0. 0. 0. 0.]\n"
          ]
        }
      ],
      "source": [
        "x=np.zeros(10)\n",
        "print(x)"
      ]
    },
    {
      "cell_type": "markdown",
      "metadata": {
        "id": "I1aDokWHeRyk"
      },
      "source": [
        "#### 4.  How to find the memory size of any array (★☆☆) \n",
        "(**hint**: size, itemsize)"
      ]
    },
    {
      "cell_type": "code",
      "source": [
        "a=np.array([2,3,4,6,5])\n",
        "a.size"
      ],
      "metadata": {
        "colab": {
          "base_uri": "https://localhost:8080/"
        },
        "id": "PGNgvoV6HE2B",
        "outputId": "9f7ef7a7-84a2-4fa4-f521-fc5c27a8ad09"
      },
      "execution_count": null,
      "outputs": [
        {
          "output_type": "execute_result",
          "data": {
            "text/plain": [
              "5"
            ]
          },
          "metadata": {},
          "execution_count": 62
        }
      ]
    },
    {
      "cell_type": "code",
      "execution_count": null,
      "metadata": {
        "id": "MUgw0YYaeRyl"
      },
      "outputs": [],
      "source": [
        "a=np.array([2,3,4,6,5])"
      ]
    },
    {
      "cell_type": "markdown",
      "metadata": {
        "id": "ozCDZSBTeRym"
      },
      "source": [
        "#### 5.  How to get the documentation of the numpy add function from the command line? (★☆☆) \n",
        "(**hint**: np.info)"
      ]
    },
    {
      "cell_type": "code",
      "execution_count": null,
      "metadata": {
        "collapsed": true,
        "id": "73kaOveqeRyn",
        "colab": {
          "base_uri": "https://localhost:8080/"
        },
        "outputId": "c7449f57-4227-4c3d-b8e2-e96703d00e72"
      },
      "outputs": [
        {
          "output_type": "stream",
          "name": "stdout",
          "text": [
            "add(x1, x2, /, out=None, *, where=True, casting='same_kind', order='K', dtype=None, subok=True[, signature, extobj])\n",
            "\n",
            "Add arguments element-wise.\n",
            "\n",
            "Parameters\n",
            "----------\n",
            "x1, x2 : array_like\n",
            "    The arrays to be added.\n",
            "    If ``x1.shape != x2.shape``, they must be broadcastable to a common\n",
            "    shape (which becomes the shape of the output).\n",
            "out : ndarray, None, or tuple of ndarray and None, optional\n",
            "    A location into which the result is stored. If provided, it must have\n",
            "    a shape that the inputs broadcast to. If not provided or None,\n",
            "    a freshly-allocated array is returned. A tuple (possible only as a\n",
            "    keyword argument) must have length equal to the number of outputs.\n",
            "where : array_like, optional\n",
            "    This condition is broadcast over the input. At locations where the\n",
            "    condition is True, the `out` array will be set to the ufunc result.\n",
            "    Elsewhere, the `out` array will retain its original value.\n",
            "    Note that if an uninitialized `out` array is created via the default\n",
            "    ``out=None``, locations within it where the condition is False will\n",
            "    remain uninitialized.\n",
            "**kwargs\n",
            "    For other keyword-only arguments, see the\n",
            "    :ref:`ufunc docs <ufuncs.kwargs>`.\n",
            "\n",
            "Returns\n",
            "-------\n",
            "add : ndarray or scalar\n",
            "    The sum of `x1` and `x2`, element-wise.\n",
            "    This is a scalar if both `x1` and `x2` are scalars.\n",
            "\n",
            "Notes\n",
            "-----\n",
            "Equivalent to `x1` + `x2` in terms of array broadcasting.\n",
            "\n",
            "Examples\n",
            "--------\n",
            ">>> np.add(1.0, 4.0)\n",
            "5.0\n",
            ">>> x1 = np.arange(9.0).reshape((3, 3))\n",
            ">>> x2 = np.arange(3.0)\n",
            ">>> np.add(x1, x2)\n",
            "array([[  0.,   2.,   4.],\n",
            "       [  3.,   5.,   7.],\n",
            "       [  6.,   8.,  10.]])\n",
            "\n",
            "The ``+`` operator can be used as a shorthand for ``np.add`` on ndarrays.\n",
            "\n",
            ">>> x1 = np.arange(9.0).reshape((3, 3))\n",
            ">>> x2 = np.arange(3.0)\n",
            ">>> x1 + x2\n",
            "array([[ 0.,  2.,  4.],\n",
            "       [ 3.,  5.,  7.],\n",
            "       [ 6.,  8., 10.]])\n"
          ]
        }
      ],
      "source": [
        "np.info(np.add)"
      ]
    },
    {
      "cell_type": "markdown",
      "metadata": {
        "id": "op5ypjHPeRyo"
      },
      "source": [
        "#### 6.  Create a null vector of size 10 but the fifth value which is 1 (★☆☆) \n",
        "(**hint**: array\\[4\\])"
      ]
    },
    {
      "cell_type": "code",
      "execution_count": null,
      "metadata": {
        "id": "U7Qf6KapeRyp",
        "colab": {
          "base_uri": "https://localhost:8080/"
        },
        "outputId": "4c83a65c-fc6b-41b0-d24b-8199ad557987"
      },
      "outputs": [
        {
          "output_type": "execute_result",
          "data": {
            "text/plain": [
              "array([0., 0., 0., 0., 0., 1., 0., 0., 0., 0.])"
            ]
          },
          "metadata": {},
          "execution_count": 65
        }
      ],
      "source": [
        "x=np.zeros(10)\n",
        "x[5]=1\n",
        "x"
      ]
    },
    {
      "cell_type": "markdown",
      "metadata": {
        "id": "aqOC7YnmeRyr"
      },
      "source": [
        "#### 7.  Create a vector with values ranging from 10 to 49 (★☆☆) \n",
        "(**hint**: np.arange)"
      ]
    },
    {
      "cell_type": "code",
      "execution_count": null,
      "metadata": {
        "id": "8TAkIygjeRyu",
        "colab": {
          "base_uri": "https://localhost:8080/"
        },
        "outputId": "bde96240-cd70-4cff-e9db-d616b35a3377"
      },
      "outputs": [
        {
          "output_type": "execute_result",
          "data": {
            "text/plain": [
              "array([10, 11, 12, 13, 14, 15, 16, 17, 18, 19, 20, 21, 22, 23, 24, 25, 26,\n",
              "       27, 28, 29, 30, 31, 32, 33, 34, 35, 36, 37, 38, 39, 40, 41, 42, 43,\n",
              "       44, 45, 46, 47, 48, 49])"
            ]
          },
          "metadata": {},
          "execution_count": 66
        }
      ],
      "source": [
        "a=np.array(range(10,50))\n",
        "a"
      ]
    },
    {
      "cell_type": "markdown",
      "metadata": {
        "id": "fGDZRBqKeRyv"
      },
      "source": [
        "#### 8.  Reverse a vector (first element becomes last) (★☆☆) \n",
        "(**hint**: array\\[::-1\\])"
      ]
    },
    {
      "cell_type": "code",
      "execution_count": null,
      "metadata": {
        "id": "iMos0VIgeRyv",
        "colab": {
          "base_uri": "https://localhost:8080/"
        },
        "outputId": "6b525ba8-6dce-481c-9a52-72e929a2e249"
      },
      "outputs": [
        {
          "output_type": "execute_result",
          "data": {
            "text/plain": [
              "array([49, 48, 47, 46, 45, 44, 43, 42, 41, 40, 39, 38, 37, 36, 35, 34, 33,\n",
              "       32, 31, 30, 29, 28, 27, 26, 25, 24, 23, 22, 21, 20, 19, 18, 17, 16,\n",
              "       15, 14, 13, 12, 11, 10])"
            ]
          },
          "metadata": {},
          "execution_count": 67
        }
      ],
      "source": [
        "a=np.array(range(10,50))\n",
        "a[::-1]"
      ]
    },
    {
      "cell_type": "markdown",
      "metadata": {
        "id": "Aq2B1x8heRyw"
      },
      "source": [
        "#### 9.  Create a 3x3 matrix with values ranging from 0 to 8 (★☆☆) \n",
        "(**hint**: reshape)"
      ]
    },
    {
      "cell_type": "code",
      "execution_count": null,
      "metadata": {
        "id": "U1r2FUD2eRyw",
        "colab": {
          "base_uri": "https://localhost:8080/"
        },
        "outputId": "dfb40009-9f1e-4a6f-8737-819bc54c897c"
      },
      "outputs": [
        {
          "output_type": "execute_result",
          "data": {
            "text/plain": [
              "array([[0, 1, 2],\n",
              "       [3, 4, 5],\n",
              "       [6, 7, 8]])"
            ]
          },
          "metadata": {},
          "execution_count": 68
        }
      ],
      "source": [
        "a=np.array(range(0,9))\n",
        "a.reshape(3,3)"
      ]
    },
    {
      "cell_type": "markdown",
      "metadata": {
        "id": "5oVIMDeJeRyx"
      },
      "source": [
        "#### 10. Find indices of non-zero elements from \\[1,2,0,0,4,0\\] (★☆☆) \n",
        "(**hint**: np.nonzero)"
      ]
    },
    {
      "cell_type": "code",
      "execution_count": null,
      "metadata": {
        "id": "xAkswSyIeRyx",
        "colab": {
          "base_uri": "https://localhost:8080/"
        },
        "outputId": "6ab19d1d-a123-47a3-d95a-4e6fd63ee940"
      },
      "outputs": [
        {
          "output_type": "execute_result",
          "data": {
            "text/plain": [
              "(array([0, 1, 4]),)"
            ]
          },
          "metadata": {},
          "execution_count": 69
        }
      ],
      "source": [
        "a=[1,2,0,0,4,0]\n",
        "np.nonzero(a)"
      ]
    },
    {
      "cell_type": "markdown",
      "metadata": {
        "id": "jk1w6Lp5eRyy"
      },
      "source": [
        "#### 11. Create a 3x3 identity matrix (★☆☆) \n",
        "(**hint**: np.eye)"
      ]
    },
    {
      "cell_type": "code",
      "execution_count": null,
      "metadata": {
        "id": "iaVzLXjIeRyy",
        "colab": {
          "base_uri": "https://localhost:8080/"
        },
        "outputId": "a8917f8e-471a-4bf6-eb52-87a2450ac5a8"
      },
      "outputs": [
        {
          "output_type": "execute_result",
          "data": {
            "text/plain": [
              "array([[1, 0, 0],\n",
              "       [0, 1, 0],\n",
              "       [0, 0, 1]])"
            ]
          },
          "metadata": {},
          "execution_count": 70
        }
      ],
      "source": [
        "np.eye(3,3,dtype=int)"
      ]
    },
    {
      "cell_type": "markdown",
      "metadata": {
        "id": "8ou72roUeRyy"
      },
      "source": [
        "#### 12. Create a 3x3x3 array with random values (★☆☆) \n",
        "(**hint**: np.random.random)"
      ]
    },
    {
      "cell_type": "code",
      "execution_count": null,
      "metadata": {
        "collapsed": true,
        "id": "G1HtGDDveRyz",
        "colab": {
          "base_uri": "https://localhost:8080/"
        },
        "outputId": "59a50d7d-3e96-4069-9c9c-57b68678f13b"
      },
      "outputs": [
        {
          "output_type": "execute_result",
          "data": {
            "text/plain": [
              "array([[[0.49264847, 0.63107952, 0.16222023],\n",
              "        [0.88257176, 0.99302276, 0.87327052],\n",
              "        [0.04951929, 0.91405239, 0.67769411]],\n",
              "\n",
              "       [[0.8442894 , 0.10925336, 0.58649054],\n",
              "        [0.46566259, 0.19137017, 0.72344131],\n",
              "        [0.78639766, 0.1609334 , 0.18849259]],\n",
              "\n",
              "       [[0.12336842, 0.41258573, 0.38674286],\n",
              "        [0.75901738, 0.8578554 , 0.22235275],\n",
              "        [0.12281267, 0.08619878, 0.98304431]]])"
            ]
          },
          "metadata": {},
          "execution_count": 71
        }
      ],
      "source": [
        "a=np.random.random((3,3,3))\n",
        "a"
      ]
    },
    {
      "cell_type": "markdown",
      "metadata": {
        "id": "m55iuJrheRyz"
      },
      "source": [
        "#### 13. Create a 10x10 array with random values and find the minimum and maximum values (★☆☆) \n",
        "(**hint**: min, max)"
      ]
    },
    {
      "cell_type": "code",
      "execution_count": null,
      "metadata": {
        "id": "BZfaEW-zeRyz",
        "colab": {
          "base_uri": "https://localhost:8080/"
        },
        "outputId": "3a74dcef-0c3a-4b0f-f620-fe94e6e09609"
      },
      "outputs": [
        {
          "output_type": "stream",
          "name": "stdout",
          "text": [
            "0.006792908564247524\n",
            "0.9990253429743727\n",
            "[[0.32410695 0.60459711 0.1269493  0.17877691 0.58851428 0.24970637\n",
            "  0.81478336 0.27105356 0.95932997 0.65805501]\n",
            " [0.60210452 0.20136888 0.20282093 0.30566756 0.66134242 0.30315967\n",
            "  0.56137826 0.78471013 0.27867843 0.61626446]\n",
            " [0.30835805 0.0668973  0.29465131 0.45288062 0.84905875 0.33416125\n",
            "  0.03901996 0.47918696 0.24331378 0.49063198]\n",
            " [0.84123652 0.1227436  0.8079974  0.58468043 0.39692172 0.13469998\n",
            "  0.87489998 0.14569205 0.80507993 0.19384622]\n",
            " [0.61755828 0.83339954 0.44372836 0.1968136  0.10765384 0.21820613\n",
            "  0.63755789 0.85103788 0.21686819 0.99520352]\n",
            " [0.99902534 0.05782621 0.25701012 0.85767319 0.7898441  0.09222219\n",
            "  0.1442913  0.74375897 0.30060109 0.54303921]\n",
            " [0.31683154 0.91294094 0.92975069 0.47926753 0.55086931 0.50407726\n",
            "  0.60334032 0.6785112  0.1903575  0.72793085]\n",
            " [0.15155156 0.36968543 0.13062957 0.99351829 0.90650615 0.75368031\n",
            "  0.8006673  0.81657032 0.43716068 0.00679291]\n",
            " [0.68463709 0.0533687  0.55283533 0.86636816 0.64923907 0.67412943\n",
            "  0.06123048 0.04829    0.37416109 0.27205171]\n",
            " [0.61173965 0.49896366 0.46143348 0.29065691 0.20380135 0.63063581\n",
            "  0.86748416 0.81747743 0.6075332  0.56472461]]\n"
          ]
        }
      ],
      "source": [
        "a=np.random.random((10,10))\n",
        "print(np.min(a))\n",
        "print(np.max(a))\n",
        "print(a)"
      ]
    },
    {
      "cell_type": "markdown",
      "metadata": {
        "id": "9K5APeszeRyz"
      },
      "source": [
        "#### 14. Create a random vector of size 30 and find the mean value (★☆☆) \n",
        "(**hint**: mean)"
      ]
    },
    {
      "cell_type": "code",
      "execution_count": null,
      "metadata": {
        "id": "evY309HceRy0",
        "colab": {
          "base_uri": "https://localhost:8080/"
        },
        "outputId": "ff111156-09a5-49b3-9a8b-5865cb13cf07"
      },
      "outputs": [
        {
          "output_type": "stream",
          "name": "stdout",
          "text": [
            "0.3605661879780259\n",
            "[0.0197117  0.13360657 0.0166745  0.03820266 0.56145241 0.13438282\n",
            " 0.78803061 0.52389601 0.60598133 0.1002499  0.3933733  0.39720518\n",
            " 0.00751005 0.53136961 0.73411732 0.22964993 0.29942685 0.90192781\n",
            " 0.06353702 0.27483883 0.07888067 0.74673184 0.38707953 0.40594664\n",
            " 0.08188108 0.52539245 0.72397286 0.47573737 0.55756311 0.07865567]\n"
          ]
        }
      ],
      "source": [
        "a=np.random.rand(30)\n",
        "print(np.mean(a))\n",
        "print(a)"
      ]
    },
    {
      "cell_type": "markdown",
      "metadata": {
        "id": "GDt1GF24eRy0"
      },
      "source": [
        "#### 15. Create a 2d array with 1 on the border and 0 inside (★☆☆) \n",
        "(**hint**: array\\[1:-1, 1:-1\\])"
      ]
    },
    {
      "cell_type": "code",
      "execution_count": null,
      "metadata": {
        "id": "vwAzKJb7eRy0",
        "colab": {
          "base_uri": "https://localhost:8080/"
        },
        "outputId": "38a8af9b-b3af-482c-9f5c-97f0ff33865b"
      },
      "outputs": [
        {
          "output_type": "execute_result",
          "data": {
            "text/plain": [
              "array([[1., 1., 1., 1., 1.],\n",
              "       [1., 0., 0., 0., 1.],\n",
              "       [1., 0., 0., 0., 1.],\n",
              "       [1., 0., 0., 0., 1.],\n",
              "       [1., 1., 1., 1., 1.]])"
            ]
          },
          "metadata": {},
          "execution_count": 74
        }
      ],
      "source": [
        "import numpy as np\n",
        "x=np.ones((5,5))\n",
        "x[1:-1,1:-1]=0\n",
        "x"
      ]
    },
    {
      "cell_type": "markdown",
      "metadata": {
        "id": "2jL6264teRy0"
      },
      "source": [
        "#### 16. How to add a border (filled with 0's) around an existing array? (★☆☆) \n",
        "(**hint**: np.pad)"
      ]
    },
    {
      "cell_type": "code",
      "execution_count": null,
      "metadata": {
        "id": "Jj2p5RiseRy1",
        "colab": {
          "base_uri": "https://localhost:8080/"
        },
        "outputId": "28a8ceda-7e71-4345-cb7a-a8f2315f0c48"
      },
      "outputs": [
        {
          "output_type": "execute_result",
          "data": {
            "text/plain": [
              "array([[0., 0., 0., 0., 0., 0., 0.],\n",
              "       [0., 1., 1., 1., 1., 1., 0.],\n",
              "       [0., 1., 1., 1., 1., 1., 0.],\n",
              "       [0., 1., 1., 1., 1., 1., 0.],\n",
              "       [0., 1., 1., 1., 1., 1., 0.],\n",
              "       [0., 1., 1., 1., 1., 1., 0.],\n",
              "       [0., 0., 0., 0., 0., 0., 0.]])"
            ]
          },
          "metadata": {},
          "execution_count": 75
        }
      ],
      "source": [
        "import numpy as np\n",
        "x=np.ones((5,5))\n",
        "y=np.pad(x,pad_width=1,mode=\"constant\",constant_values=0)\n",
        "y"
      ]
    },
    {
      "cell_type": "markdown",
      "metadata": {
        "id": "RpgrKitxeRy1"
      },
      "source": [
        "#### 17. What is the result of the following expression? (★☆☆) \n",
        "(**hint**: NaN = not a number, inf = infinity)"
      ]
    },
    {
      "cell_type": "markdown",
      "metadata": {
        "id": "HN0TYf6neRy1"
      },
      "source": [
        "```python\n",
        "0 * np.nan\n",
        "np.nan == np.nan\n",
        "np.inf > np.nan\n",
        "np.nan - np.nan\n",
        "0.3 == 3 * 0.1\n",
        "```"
      ]
    },
    {
      "cell_type": "code",
      "execution_count": null,
      "metadata": {
        "id": "c5H94Vv8eRy2",
        "colab": {
          "base_uri": "https://localhost:8080/",
          "height": 235
        },
        "outputId": "c9d8acb6-3e63-471f-f84c-4e0f7bdb860b"
      },
      "outputs": [
        {
          "output_type": "error",
          "ename": "NameError",
          "evalue": "ignored",
          "traceback": [
            "\u001b[0;31m---------------------------------------------------------------------------\u001b[0m",
            "\u001b[0;31mNameError\u001b[0m                                 Traceback (most recent call last)",
            "\u001b[0;32m<ipython-input-76-cfb67f49340d>\u001b[0m in \u001b[0;36m<module>\u001b[0;34m\u001b[0m\n\u001b[0;32m----> 1\u001b[0;31m \u001b[0mNaN\u001b[0m\u001b[0;34m\u001b[0m\u001b[0;34m\u001b[0m\u001b[0m\n\u001b[0m\u001b[1;32m      2\u001b[0m \u001b[0;32mFalse\u001b[0m\u001b[0;34m\u001b[0m\u001b[0;34m\u001b[0m\u001b[0m\n\u001b[1;32m      3\u001b[0m \u001b[0;32mFalse\u001b[0m\u001b[0;34m\u001b[0m\u001b[0;34m\u001b[0m\u001b[0m\n\u001b[1;32m      4\u001b[0m \u001b[0mNaN\u001b[0m\u001b[0;34m\u001b[0m\u001b[0;34m\u001b[0m\u001b[0m\n\u001b[1;32m      5\u001b[0m \u001b[0;32mFalse\u001b[0m\u001b[0;34m\u001b[0m\u001b[0;34m\u001b[0m\u001b[0m\n",
            "\u001b[0;31mNameError\u001b[0m: name 'NaN' is not defined"
          ]
        }
      ],
      "source": [
        "NaN\n",
        "False\n",
        "False\n",
        "NaN\n",
        "False"
      ]
    },
    {
      "cell_type": "markdown",
      "metadata": {
        "id": "UNNV_4YAeRy2"
      },
      "source": [
        "#### 18. Create a 5x5 matrix with values 1,2,3,4 just below the diagonal (★☆☆) \n",
        "(**hint**: np.diag)"
      ]
    },
    {
      "cell_type": "code",
      "execution_count": null,
      "metadata": {
        "id": "ddT5yvhaeRy2",
        "colab": {
          "base_uri": "https://localhost:8080/"
        },
        "outputId": "257c1401-ac71-44f2-86b1-a8cad0c392c2"
      },
      "outputs": [
        {
          "output_type": "execute_result",
          "data": {
            "text/plain": [
              "array([[1., 2., 3., 4., 5.],\n",
              "       [1., 2., 3., 4., 5.],\n",
              "       [1., 2., 3., 4., 5.],\n",
              "       [1., 2., 3., 4., 5.],\n",
              "       [1., 2., 3., 4., 5.]])"
            ]
          },
          "metadata": {},
          "execution_count": 77
        }
      ],
      "source": [
        "import numpy as np\n",
        "x=np.ones((5,5))\n",
        "x+=np.arange(5)\n",
        "x"
      ]
    },
    {
      "cell_type": "markdown",
      "metadata": {
        "id": "r2sEq6CdeRy2"
      },
      "source": [
        "#### 19. Create a 8x8 matrix and fill it with a checkerboard pattern (★☆☆) \n",
        "(**hint**: array\\[::2\\])"
      ]
    },
    {
      "cell_type": "code",
      "execution_count": null,
      "metadata": {
        "id": "EqEGwsx7eRy3",
        "colab": {
          "base_uri": "https://localhost:8080/"
        },
        "outputId": "b7b47b2d-dda2-4666-a908-2f3bd96d62bf"
      },
      "outputs": [
        {
          "output_type": "execute_result",
          "data": {
            "text/plain": [
              "array([[0, 1, 0, 1, 0, 1, 0, 1],\n",
              "       [1, 0, 1, 0, 1, 0, 1, 0],\n",
              "       [0, 1, 0, 1, 0, 1, 0, 1],\n",
              "       [1, 0, 1, 0, 1, 0, 1, 0],\n",
              "       [0, 1, 0, 1, 0, 1, 0, 1],\n",
              "       [1, 0, 1, 0, 1, 0, 1, 0],\n",
              "       [0, 1, 0, 1, 0, 1, 0, 1],\n",
              "       [1, 0, 1, 0, 1, 0, 1, 0]])"
            ]
          },
          "metadata": {},
          "execution_count": 78
        }
      ],
      "source": [
        "import numpy as np\n",
        "x=np.ones((3,3))\n",
        "x=np.zeros((8,8),dtype=int)\n",
        "x[1::2,::2]=1\n",
        "x[::2,1::2]=1\n",
        "x"
      ]
    },
    {
      "cell_type": "markdown",
      "metadata": {
        "id": "0XPL6LozeRy3"
      },
      "source": [
        "#### 20. Consider a (6,7,8) shape array, what is the index (x,y,z) of the 100th element? \n",
        "(**hint**: np.unravel_index)"
      ]
    },
    {
      "cell_type": "code",
      "execution_count": null,
      "metadata": {
        "id": "z14wLtqqeRy3",
        "colab": {
          "base_uri": "https://localhost:8080/"
        },
        "outputId": "b361069d-de1a-4a9f-a8a6-1def7e932dba"
      },
      "outputs": [
        {
          "output_type": "execute_result",
          "data": {
            "text/plain": [
              "(1, 5, 4)"
            ]
          },
          "metadata": {},
          "execution_count": 79
        }
      ],
      "source": [
        "np.unravel_index(100,(6,7,8))"
      ]
    },
    {
      "cell_type": "markdown",
      "metadata": {
        "id": "3J3NQftleRy4"
      },
      "source": [
        "#### 21. Create a checkerboard 8x8 matrix using the tile function (★☆☆) \n",
        "(**hint**: np.tile)"
      ]
    },
    {
      "cell_type": "code",
      "execution_count": null,
      "metadata": {
        "id": "93q-Kq8TeRy4",
        "colab": {
          "base_uri": "https://localhost:8080/"
        },
        "outputId": "d09346b4-fee1-4763-e929-239fc1e68129"
      },
      "outputs": [
        {
          "output_type": "execute_result",
          "data": {
            "text/plain": [
              "array([[0, 1, 0, 1, 0, 1, 0, 1],\n",
              "       [1, 0, 1, 0, 1, 0, 1, 0],\n",
              "       [0, 1, 0, 1, 0, 1, 0, 1],\n",
              "       [1, 0, 1, 0, 1, 0, 1, 0],\n",
              "       [0, 1, 0, 1, 0, 1, 0, 1],\n",
              "       [1, 0, 1, 0, 1, 0, 1, 0],\n",
              "       [0, 1, 0, 1, 0, 1, 0, 1],\n",
              "       [1, 0, 1, 0, 1, 0, 1, 0]])"
            ]
          },
          "metadata": {},
          "execution_count": 80
        }
      ],
      "source": [
        "a=np.array([[0,1],[1,0]])\n",
        "y=np.tile(a,(4,4))\n",
        "y"
      ]
    },
    {
      "cell_type": "markdown",
      "metadata": {
        "id": "PQl-QbBheRy5"
      },
      "source": [
        "#### 22. Normalize a 5x5 random matrix (★☆☆) \n",
        "(**hint**: (x - min) / (max - min))"
      ]
    },
    {
      "cell_type": "code",
      "execution_count": null,
      "metadata": {
        "id": "-xcSvPY_eRy5",
        "colab": {
          "base_uri": "https://localhost:8080/"
        },
        "outputId": "7e282a5e-5e4d-4bab-9cea-f7a5dbb9a60b"
      },
      "outputs": [
        {
          "output_type": "execute_result",
          "data": {
            "text/plain": [
              "array([[0.19298488, 0.        , 0.88091321, 0.83606017, 0.98925649],\n",
              "       [0.86810106, 0.68825874, 0.58138773, 0.41480673, 0.92645858],\n",
              "       [0.82641573, 0.53496751, 0.783882  , 0.7666982 , 0.99297154],\n",
              "       [0.9117495 , 0.75228544, 0.34973044, 0.19526951, 0.2375831 ],\n",
              "       [0.98961617, 1.        , 0.22074034, 0.01046126, 0.55006006]])"
            ]
          },
          "metadata": {},
          "execution_count": 81
        }
      ],
      "source": [
        "x=np.random.random((5,5))\n",
        "xmax,xmin=x.max(),x.min()\n",
        "x=(x-xmin)/(xmax-xmin)\n",
        "x"
      ]
    },
    {
      "cell_type": "markdown",
      "metadata": {
        "id": "-mqrlt6DeRy5"
      },
      "source": [
        "#### 23. Create a custom dtype that describes a color as four unsigned bytes (RGBA) (★☆☆) \n",
        "(**hint**: np.dtype)"
      ]
    },
    {
      "cell_type": "code",
      "execution_count": null,
      "metadata": {
        "collapsed": true,
        "id": "UECzhdWaeRy5",
        "colab": {
          "base_uri": "https://localhost:8080/"
        },
        "outputId": "70280c55-291f-4200-94f5-8d33b386e699"
      },
      "outputs": [
        {
          "output_type": "stream",
          "name": "stdout",
          "text": [
            "1\n"
          ]
        },
        {
          "output_type": "execute_result",
          "data": {
            "text/plain": [
              "numpy.ndarray"
            ]
          },
          "metadata": {},
          "execution_count": 82
        }
      ],
      "source": [
        "RGBA = np.dtype([('red',np.uint8),('green',np.uint8),('blue',np.uint8),('alpha',np.uint8)])\n",
        "color = np.array((1,2,4,3),dtype = RGBA)\n",
        "print(color['red'])\n",
        "type(color)"
      ]
    },
    {
      "cell_type": "markdown",
      "metadata": {
        "id": "B9x9beZOeRy6"
      },
      "source": [
        "#### 24. Multiply a 5x3 matrix by a 3x2 matrix (real matrix product) (★☆☆) \n",
        "(**hint**: np.dot | @)"
      ]
    },
    {
      "cell_type": "code",
      "execution_count": null,
      "metadata": {
        "id": "-DUvYmHbeRy6",
        "colab": {
          "base_uri": "https://localhost:8080/"
        },
        "outputId": "5fe2fb07-d19b-44aa-c229-3f1d34d3ca41"
      },
      "outputs": [
        {
          "output_type": "execute_result",
          "data": {
            "text/plain": [
              "array([[3., 3.],\n",
              "       [3., 3.],\n",
              "       [3., 3.],\n",
              "       [3., 3.],\n",
              "       [3., 3.]])"
            ]
          },
          "metadata": {},
          "execution_count": 83
        }
      ],
      "source": [
        "x=np.dot(np.ones((5,3)),np.ones((3,2)))\n",
        "x"
      ]
    },
    {
      "cell_type": "markdown",
      "metadata": {
        "id": "fJDWkucjeRy6"
      },
      "source": [
        "#### 25. Given a 1D array, negate all elements which are between 3 and 8, in place. (★☆☆) \n",
        "(**hint**: >, <=)"
      ]
    },
    {
      "cell_type": "code",
      "execution_count": null,
      "metadata": {
        "id": "BScmCwO3eRy6",
        "colab": {
          "base_uri": "https://localhost:8080/"
        },
        "outputId": "5d5259ca-161a-4db9-b4c3-d86532f458c7"
      },
      "outputs": [
        {
          "output_type": "stream",
          "name": "stdout",
          "text": [
            "[False False False  True  True  True  True  True  True  True  True  True\n",
            "  True  True  True  True]\n",
            "[ 0  1  2 -3 -4 -5 -6 -7 -8  9 10 11 12 13 14 15]\n"
          ]
        }
      ],
      "source": [
        "arr=np.arange(16)\n",
        "print(arr>=3)\n",
        "arr[(arr>=3) & (arr<=8)]*=(-1)\n",
        "print(arr)"
      ]
    },
    {
      "cell_type": "markdown",
      "metadata": {
        "id": "IDDcMjf-eRy7"
      },
      "source": [
        "#### 26. What is the output of the following script? (★☆☆) \n",
        "(**hint**: np.sum)"
      ]
    },
    {
      "cell_type": "markdown",
      "metadata": {
        "id": "xgny9hRzeRy7"
      },
      "source": [
        "```python\n",
        "# Author: Jake VanderPlas\n",
        "\n",
        "print(sum(range(5),-1))\n",
        "from numpy import *\n",
        "print(sum(range(5),-1))\n",
        "```"
      ]
    },
    {
      "cell_type": "code",
      "execution_count": null,
      "metadata": {
        "id": "ZlMF5AJdeRy7",
        "colab": {
          "base_uri": "https://localhost:8080/"
        },
        "outputId": "1420bd15-86f0-42fe-e6e2-c4aa7dd8e8d4"
      },
      "outputs": [
        {
          "output_type": "execute_result",
          "data": {
            "text/plain": [
              "10"
            ]
          },
          "metadata": {},
          "execution_count": 85
        }
      ],
      "source": [
        "9\n",
        "10"
      ]
    },
    {
      "cell_type": "markdown",
      "metadata": {
        "id": "0R20yiToeRy7"
      },
      "source": [
        "#### 27. Consider an integer vector Z, which of these expressions are legal? (★☆☆)"
      ]
    },
    {
      "cell_type": "markdown",
      "metadata": {
        "id": "ECmg_0GseRy8"
      },
      "source": [
        "```python\n",
        "Z**Z\n",
        "2 << Z >> 2\n",
        "Z <- Z\n",
        "1j*Z\n",
        "Z/1/1\n",
        "Z<Z>Z\n",
        "```"
      ]
    },
    {
      "cell_type": "code",
      "execution_count": null,
      "metadata": {
        "id": "YbFAfAcveRy8",
        "colab": {
          "base_uri": "https://localhost:8080/",
          "height": 235
        },
        "outputId": "acfa2461-9872-471a-85bf-788237d9a15f"
      },
      "outputs": [
        {
          "output_type": "error",
          "ename": "NameError",
          "evalue": "ignored",
          "traceback": [
            "\u001b[0;31m---------------------------------------------------------------------------\u001b[0m",
            "\u001b[0;31mNameError\u001b[0m                                 Traceback (most recent call last)",
            "\u001b[0;32m<ipython-input-86-7863139ee5be>\u001b[0m in \u001b[0;36m<module>\u001b[0;34m\u001b[0m\n\u001b[0;32m----> 1\u001b[0;31m \u001b[0mZ\u001b[0m \u001b[0;34m=\u001b[0m \u001b[0marange\u001b[0m\u001b[0;34m(\u001b[0m\u001b[0;36m10\u001b[0m\u001b[0;34m)\u001b[0m\u001b[0;34m\u001b[0m\u001b[0;34m\u001b[0m\u001b[0m\n\u001b[0m\u001b[1;32m      2\u001b[0m \u001b[0mZ\u001b[0m\u001b[0;34m**\u001b[0m\u001b[0mZ\u001b[0m\u001b[0;34m\u001b[0m\u001b[0;34m\u001b[0m\u001b[0m\n\u001b[1;32m      3\u001b[0m \u001b[0mZ_2\u001b[0m \u001b[0;34m=\u001b[0m \u001b[0;36m2\u001b[0m \u001b[0;34m<<\u001b[0m \u001b[0mZ\u001b[0m \u001b[0;34m>>\u001b[0m \u001b[0;36m2\u001b[0m\u001b[0;34m\u001b[0m\u001b[0;34m\u001b[0m\u001b[0m\n\u001b[1;32m      4\u001b[0m \u001b[0mZ_2\u001b[0m\u001b[0;34m\u001b[0m\u001b[0;34m\u001b[0m\u001b[0m\n\u001b[1;32m      5\u001b[0m \u001b[0mprint\u001b[0m\u001b[0;34m(\u001b[0m\u001b[0;34m[\u001b[0m\u001b[0mbin\u001b[0m\u001b[0;34m(\u001b[0m\u001b[0;36m2\u001b[0m\u001b[0;34m)\u001b[0m \u001b[0;32mfor\u001b[0m \u001b[0mz\u001b[0m \u001b[0;32min\u001b[0m \u001b[0mZ_2\u001b[0m\u001b[0;34m]\u001b[0m\u001b[0;34m)\u001b[0m\u001b[0;34m\u001b[0m\u001b[0;34m\u001b[0m\u001b[0m\n",
            "\u001b[0;31mNameError\u001b[0m: name 'arange' is not defined"
          ]
        }
      ],
      "source": [
        "Z = arange(10)\n",
        "Z**Z\n",
        "Z_2 = 2 << Z >> 2\n",
        "Z_2\n",
        "print([bin(2) for z in Z_2])\n",
        "print([bin(z) for z in 2 << Z_2])\n",
        "print([bin(z) for z in Z_2])\n",
        "Z<Z>Z"
      ]
    },
    {
      "cell_type": "markdown",
      "metadata": {
        "id": "R-MnBMyyeRy8"
      },
      "source": [
        "#### 28. What are the result of the following expressions?"
      ]
    },
    {
      "cell_type": "markdown",
      "metadata": {
        "id": "rzmk_bwqeRy8"
      },
      "source": [
        "```python\n",
        "np.array(0) / np.array(0)\n",
        "np.array(0) // np.array(0)\n",
        "np.array([np.nan]).astype(int).astype(float)\n",
        "```"
      ]
    },
    {
      "cell_type": "code",
      "execution_count": null,
      "metadata": {
        "id": "alUB0TXneRy9",
        "colab": {
          "base_uri": "https://localhost:8080/"
        },
        "outputId": "da512261-fb9d-4e95-8355-6f629240e26e"
      },
      "outputs": [
        {
          "output_type": "execute_result",
          "data": {
            "text/plain": [
              "array([-9.22337204e+18])"
            ]
          },
          "metadata": {},
          "execution_count": 88
        }
      ],
      "source": [
        "np.array([np.nan]).astype(int).astype(float)"
      ]
    },
    {
      "cell_type": "markdown",
      "metadata": {
        "id": "1pCc_97meRy9"
      },
      "source": [
        "#### 29. How to round away from zero a float array ? (★☆☆) \n",
        "(**hint**: np.uniform, np.copysign, np.ceil, np.abs)"
      ]
    },
    {
      "cell_type": "code",
      "execution_count": null,
      "metadata": {
        "id": "q0G9yiyVeRy9",
        "colab": {
          "base_uri": "https://localhost:8080/"
        },
        "outputId": "a787afae-e13b-480c-e1c3-c879d9bdd883"
      },
      "outputs": [
        {
          "output_type": "stream",
          "name": "stdout",
          "text": [
            "[[0.52415255 0.39504145 0.75770417 0.98805177 0.55918763]\n",
            " [0.97286812 0.79860468 0.03876054 0.8113896  0.95622575]\n",
            " [0.70136392 0.49750581 0.40909888 0.06416765 0.59100547]\n",
            " [0.87851865 0.34686254 0.6653533  0.23483142 0.55812295]\n",
            " [0.05211004 0.92685721 0.36791594 0.98585369 0.8139832 ]]\n",
            "[[0.52 0.4  0.76 0.99 0.56]\n",
            " [0.97 0.8  0.04 0.81 0.96]\n",
            " [0.7  0.5  0.41 0.06 0.59]\n",
            " [0.88 0.35 0.67 0.23 0.56]\n",
            " [0.05 0.93 0.37 0.99 0.81]]\n"
          ]
        }
      ],
      "source": [
        "arr=np.random.random((5,5))\n",
        "print(arr)\n",
        "arr=np.round(arr,2)\n",
        "print(arr)"
      ]
    },
    {
      "cell_type": "markdown",
      "metadata": {
        "id": "ug_w9cEleRy9"
      },
      "source": [
        "#### 30. How to find common values between two arrays? (★☆☆) \n",
        "(**hint**: np.intersect1d)"
      ]
    },
    {
      "cell_type": "code",
      "execution_count": null,
      "metadata": {
        "id": "0Wf7ER02eRy-",
        "colab": {
          "base_uri": "https://localhost:8080/"
        },
        "outputId": "3fc55530-6cc4-4416-f32c-8c2ef1d7cc45"
      },
      "outputs": [
        {
          "output_type": "stream",
          "name": "stdout",
          "text": [
            "[1 2 3]\n"
          ]
        }
      ],
      "source": [
        "x=np.array([1,2,3,4])\n",
        "y=np.array([2,3,1,9])\n",
        "print(np.intersect1d(x,y))"
      ]
    },
    {
      "cell_type": "markdown",
      "metadata": {
        "id": "ccOz-KdheRy-"
      },
      "source": [
        "#### 31. How to ignore all numpy warnings (not recommended)? (★☆☆) \n",
        "(**hint**: np.seterr, np.errstate)"
      ]
    },
    {
      "cell_type": "code",
      "execution_count": null,
      "metadata": {
        "id": "ma-qPuYOeRy-",
        "colab": {
          "base_uri": "https://localhost:8080/"
        },
        "outputId": "227f51d3-6500-4d48-cd37-925604b9b3c2"
      },
      "outputs": [
        {
          "output_type": "execute_result",
          "data": {
            "text/plain": [
              "{'divide': 'warn', 'over': 'warn', 'under': 'ignore', 'invalid': 'warn'}"
            ]
          },
          "metadata": {},
          "execution_count": 91
        }
      ],
      "source": [
        "import numpy as np\n",
        "data=np.random.random(1000).reshape(10,10,10)*np.nan\n",
        "np.seterr(all=\"ignore\")"
      ]
    },
    {
      "cell_type": "markdown",
      "metadata": {
        "id": "cfK3XCppeRy-"
      },
      "source": [
        "#### 32. Is the following expressions true? (★☆☆) \n",
        "(**hint**: imaginary number)"
      ]
    },
    {
      "cell_type": "markdown",
      "metadata": {
        "id": "VYLb071keRy_"
      },
      "source": [
        "```python\n",
        "np.sqrt(-1) == np.emath.sqrt(-1)\n",
        "```"
      ]
    },
    {
      "cell_type": "code",
      "execution_count": null,
      "metadata": {
        "id": "t3A2NmbheRy_",
        "colab": {
          "base_uri": "https://localhost:8080/"
        },
        "outputId": "44cf6f7d-9209-41d5-9467-8875cf4ff089"
      },
      "outputs": [
        {
          "output_type": "execute_result",
          "data": {
            "text/plain": [
              "False"
            ]
          },
          "metadata": {},
          "execution_count": 92
        }
      ],
      "source": [
        "np.sqrt(-1) == np.emath.sqrt(-1)"
      ]
    },
    {
      "cell_type": "markdown",
      "metadata": {
        "id": "YxrutF6NeRy_"
      },
      "source": [
        "#### 33. How to get the dates of yesterday, today and tomorrow? (★☆☆) \n",
        "(**hint**: np.datetime64, np.timedelta64)"
      ]
    },
    {
      "cell_type": "code",
      "execution_count": null,
      "metadata": {
        "collapsed": true,
        "id": "w3W24oNdeRy_"
      },
      "outputs": [],
      "source": [
        "yesterday = np.datetime64('today', 'D') - np.timedelta64(1, 'D')\n",
        "today     = np.datetime64('today', 'D')\n",
        "tomorrow  = np.datetime64('today', 'D') + np.timedelta64(1, 'D')"
      ]
    },
    {
      "cell_type": "markdown",
      "metadata": {
        "id": "x3jhRwmleRzA"
      },
      "source": [
        "#### 34. How to get all the dates corresponding to the month of July 2016? (★★☆) \n",
        "(**hint**: np.arange(dtype=datetime64\\['D'\\]))"
      ]
    },
    {
      "cell_type": "code",
      "execution_count": null,
      "metadata": {
        "id": "v5e7XPbpeRzA"
      },
      "outputs": [],
      "source": [
        "yesterday = np.datetime64('today', 'D') - np.timedelta64(1, 'D')\n",
        "today     = np.datetime64('today', 'D')\n",
        "tomorrow  = np.datetime64('today', 'D') + np.timedelta64(1, 'D')"
      ]
    },
    {
      "cell_type": "markdown",
      "metadata": {
        "id": "CcEXZvhBeRzA"
      },
      "source": [
        "#### 35. How to compute ((A+B)\\*(-A/2)) in place (without copy)? (★★☆) \n",
        "(**hint**: np.add(out=), np.negative(out=), np.multiply(out=), np.divide(out=))"
      ]
    },
    {
      "cell_type": "code",
      "execution_count": null,
      "metadata": {
        "id": "5fSW1gC-eRzA",
        "colab": {
          "base_uri": "https://localhost:8080/"
        },
        "outputId": "80145097-d8f6-48ed-c1c2-b5b2d51fbe93"
      },
      "outputs": [
        {
          "output_type": "execute_result",
          "data": {
            "text/plain": [
              "-4.5"
            ]
          },
          "metadata": {},
          "execution_count": 95
        }
      ],
      "source": [
        "A = np.ones(3)*1\n",
        "B = np.ones(3)*2\n",
        "C = np.ones(3)*3\n",
        "np.add(A,B,out=B)\n",
        "np.divide(A,2,out=A)\n",
        "np.negative(A,out=A)\n",
        "np.dot(A,B)"
      ]
    },
    {
      "cell_type": "markdown",
      "metadata": {
        "id": "JqcIfK8FeRzA"
      },
      "source": [
        "#### 36. Extract the integer part of a random array using 5 different methods (★★☆) \n",
        "(**hint**: %, np.floor, np.ceil, astype, np.trunc)"
      ]
    },
    {
      "cell_type": "code",
      "execution_count": null,
      "metadata": {
        "id": "Jy1eVnJAeRzB",
        "colab": {
          "base_uri": "https://localhost:8080/"
        },
        "outputId": "71105de9-b752-412a-e9cd-f2124c8b3abb"
      },
      "outputs": [
        {
          "output_type": "stream",
          "name": "stdout",
          "text": [
            "[2. 3. 1. 1. 0. 7. 1. 3. 3. 8.]\n",
            "[2. 3. 1. 1. 0. 7. 1. 3. 3. 8.]\n",
            "[2. 3. 1. 1. 0. 7. 1. 3. 3. 8.]\n",
            "[2 3 1 1 0 7 1 3 3 8]\n"
          ]
        }
      ],
      "source": [
        "Z = np.random.uniform(0,10,10)\n",
        "\n",
        "print (Z - Z%1)\n",
        "print (np.floor(Z))\n",
        "print (np.ceil(Z)-1)\n",
        "print (Z.astype(int))"
      ]
    },
    {
      "cell_type": "markdown",
      "metadata": {
        "id": "4snJHgKEeRzB"
      },
      "source": [
        "#### 37. Create a 5x5 matrix with row values ranging from 0 to 4 (★★☆) \n",
        "(**hint**: np.arange)"
      ]
    },
    {
      "cell_type": "code",
      "execution_count": null,
      "metadata": {
        "id": "NiFaG3greRzC",
        "colab": {
          "base_uri": "https://localhost:8080/"
        },
        "outputId": "7aec3fa8-f555-4613-aa66-c97291c265b4"
      },
      "outputs": [
        {
          "output_type": "execute_result",
          "data": {
            "text/plain": [
              "array([[0., 1., 2., 3., 4.],\n",
              "       [0., 1., 2., 3., 4.],\n",
              "       [0., 1., 2., 3., 4.],\n",
              "       [0., 1., 2., 3., 4.],\n",
              "       [0., 1., 2., 3., 4.]])"
            ]
          },
          "metadata": {},
          "execution_count": 98
        }
      ],
      "source": [
        "x=np.zeros((5,5))\n",
        "x+=np.arange(5)\n",
        "x"
      ]
    },
    {
      "cell_type": "markdown",
      "metadata": {
        "id": "idVW3CzheRzC"
      },
      "source": [
        "#### 38. Consider a generator function that generates 10 integers and use it to build an array (★☆☆) \n",
        "(**hint**: np.fromiter)"
      ]
    },
    {
      "cell_type": "code",
      "execution_count": null,
      "metadata": {
        "id": "GwivQNxUeRzC",
        "colab": {
          "base_uri": "https://localhost:8080/"
        },
        "outputId": "08cb39c9-ec78-418c-c9f1-03318e234b4c"
      },
      "outputs": [
        {
          "output_type": "execute_result",
          "data": {
            "text/plain": [
              "array([0., 1., 2., 3., 4., 5., 6., 7., 8., 9.])"
            ]
          },
          "metadata": {},
          "execution_count": 99
        }
      ],
      "source": [
        "def forma():\n",
        "    for i in range(10):\n",
        "        yield i\n",
        "x=np.fromiter(forma(),dtype=float,count=-1)\n",
        "x        "
      ]
    },
    {
      "cell_type": "markdown",
      "metadata": {
        "id": "-Yf55JBWeRzC"
      },
      "source": [
        "#### 39. Create a vector of size 10 with values ranging from 0 to 1, both excluded (★★☆) \n",
        "(**hint**: np.linspace)"
      ]
    },
    {
      "cell_type": "code",
      "execution_count": null,
      "metadata": {
        "id": "F0V9pHeveRzD",
        "colab": {
          "base_uri": "https://localhost:8080/"
        },
        "outputId": "5f6f53b0-83dc-4fa6-a4d3-2748c629e824"
      },
      "outputs": [
        {
          "output_type": "execute_result",
          "data": {
            "text/plain": [
              "array([0.09090909, 0.18181818, 0.27272727, 0.36363636, 0.45454545,\n",
              "       0.54545455, 0.63636364, 0.72727273, 0.81818182, 0.90909091])"
            ]
          },
          "metadata": {},
          "execution_count": 100
        }
      ],
      "source": [
        "np.linspace(0,1,12,endpoint=True)[1:-1]"
      ]
    },
    {
      "cell_type": "markdown",
      "metadata": {
        "id": "WNtykB4xeRzD"
      },
      "source": [
        "#### 40. Create a random vector of size 10 and sort it (★★☆) \n",
        "(**hint**: sort)"
      ]
    },
    {
      "cell_type": "code",
      "execution_count": null,
      "metadata": {
        "id": "0TGYGiL2eRzD",
        "colab": {
          "base_uri": "https://localhost:8080/"
        },
        "outputId": "08325825-aaa4-4cf5-f504-f4cbdb5193a3"
      },
      "outputs": [
        {
          "output_type": "execute_result",
          "data": {
            "text/plain": [
              "array([0., 1., 2., 3., 4., 5., 6., 7., 8., 9.])"
            ]
          },
          "metadata": {},
          "execution_count": 101
        }
      ],
      "source": [
        "np.random.random(10)\n",
        "x.sort()\n",
        "x"
      ]
    },
    {
      "cell_type": "markdown",
      "metadata": {
        "id": "GYc8kWNVeRzE"
      },
      "source": [
        "#### 41. How to sum a small array faster than np.sum? (★★☆) \n",
        "(**hint**: np.add.reduce)"
      ]
    },
    {
      "cell_type": "code",
      "execution_count": null,
      "metadata": {
        "id": "-i63OLfTeRzE",
        "colab": {
          "base_uri": "https://localhost:8080/"
        },
        "outputId": "0256ed77-1333-4a24-b3ee-fb927615857c"
      },
      "outputs": [
        {
          "output_type": "execute_result",
          "data": {
            "text/plain": [
              "array([2.35579233, 3.21755737, 2.48800555, 1.70976997, 2.68979325])"
            ]
          },
          "metadata": {},
          "execution_count": 102
        }
      ],
      "source": [
        "x=np.random.random((5,5))\n",
        "np.add.reduce(x,dtype=float)"
      ]
    },
    {
      "cell_type": "markdown",
      "metadata": {
        "id": "hHLisVIweRzE"
      },
      "source": [
        "#### 42. Consider two random array A and B, check if they are equal (★★☆) \n",
        "(**hint**: np.allclose, np.array\\_equal)"
      ]
    },
    {
      "cell_type": "code",
      "execution_count": null,
      "metadata": {
        "id": "WgG5rro7eRzE",
        "colab": {
          "base_uri": "https://localhost:8080/"
        },
        "outputId": "8bedde4e-8b72-461c-aac9-8760c9d43eb7"
      },
      "outputs": [
        {
          "output_type": "execute_result",
          "data": {
            "text/plain": [
              "False"
            ]
          },
          "metadata": {},
          "execution_count": 103
        }
      ],
      "source": [
        "x=np.random.randint(0,2,5)\n",
        "y=np.random.randint(0,2,5)\n",
        "e=np.allclose(x,y)\n",
        "e"
      ]
    },
    {
      "cell_type": "markdown",
      "metadata": {
        "id": "oCd1x_6ReRzE"
      },
      "source": [
        "#### 43. Make an array immutable (read-only) (★★☆) \n",
        "(**hint**: flags.writeable)"
      ]
    },
    {
      "cell_type": "code",
      "execution_count": null,
      "metadata": {
        "id": "LVHKyNEzeRzF"
      },
      "outputs": [],
      "source": [
        "Z = np.zeros(10)\n",
        "Z.flags.writeable = False"
      ]
    },
    {
      "cell_type": "markdown",
      "metadata": {
        "id": "Bp9et_bgeRzF"
      },
      "source": [
        "#### 44. Consider a random 10x2 matrix representing cartesian coordinates, convert them to polar coordinates (★★☆) \n",
        "(**hint**: np.sqrt, np.arctan2)"
      ]
    },
    {
      "cell_type": "code",
      "execution_count": null,
      "metadata": {
        "id": "1t4wE03GeRzF",
        "colab": {
          "base_uri": "https://localhost:8080/"
        },
        "outputId": "fd3aa532-7e9e-43da-b691-acebe3c3838d"
      },
      "outputs": [
        {
          "output_type": "execute_result",
          "data": {
            "text/plain": [
              "(array([0.6782751 , 0.79790631, 0.28420162, 0.66197078, 0.46366122,\n",
              "        1.20666977, 0.49239185, 0.53912053, 1.22545154, 0.8529474 ]),\n",
              " array([0.02593956, 1.12668421, 0.2465963 , 0.89810842, 0.87197894,\n",
              "        0.69584284, 0.34625138, 1.04297263, 0.67224431, 0.54320557]))"
            ]
          },
          "metadata": {},
          "execution_count": 105
        }
      ],
      "source": [
        "x=np.random.random((10,2))\n",
        "a,b=x[:,0],x[:,1]\n",
        "y=np.sqrt(a**2+b**2)\n",
        "t=np.arctan2(b,a)\n",
        "y,t"
      ]
    },
    {
      "cell_type": "markdown",
      "metadata": {
        "id": "UkOjZi8ZeRzF"
      },
      "source": [
        "#### 45. Create random vector of size 10 and replace the maximum value by 0 (★★☆) \n",
        "(**hint**: argmax)"
      ]
    },
    {
      "cell_type": "code",
      "execution_count": null,
      "metadata": {
        "id": "b2qf9w3feRzG",
        "colab": {
          "base_uri": "https://localhost:8080/"
        },
        "outputId": "9f296215-5360-4625-b802-3fa1de4fbf2a"
      },
      "outputs": [
        {
          "output_type": "execute_result",
          "data": {
            "text/plain": [
              "array([0.67675334, 0.33279368, 0.        , 0.37850116, 0.83296938,\n",
              "       0.8101152 , 0.66138757, 0.6600239 , 0.3792509 , 0.78669021])"
            ]
          },
          "metadata": {},
          "execution_count": 106
        }
      ],
      "source": [
        "x=np.random.random(10)\n",
        "x[x.argmax()]=0\n",
        "x"
      ]
    },
    {
      "cell_type": "markdown",
      "metadata": {
        "id": "nmN_Wv4geRzG"
      },
      "source": [
        "#### 46. Create a structured array with `x` and `y` coordinates covering the \\[0,1\\]x\\[0,1\\] area (★★☆) \n",
        "(**hint**: np.meshgrid)"
      ]
    },
    {
      "cell_type": "code",
      "execution_count": null,
      "metadata": {
        "id": "Bc6pKmnfeRzH",
        "colab": {
          "base_uri": "https://localhost:8080/"
        },
        "outputId": "75bbe8a3-9683-46e1-9548-ae5e8c3bda59"
      },
      "outputs": [
        {
          "output_type": "execute_result",
          "data": {
            "text/plain": [
              "array([[0.05882353, 0.125     , 0.07692308, 0.07142857, 0.08333333,\n",
              "        0.11111111, 0.125     , 0.11111111, 0.09090909, 0.11111111],\n",
              "       [0.04761905, 0.08333333, 0.05882353, 0.05555556, 0.0625    ,\n",
              "        0.07692308, 0.08333333, 0.07692308, 0.06666667, 0.07692308],\n",
              "       [0.07692308, 0.25      , 0.11111111, 0.1       , 0.125     ,\n",
              "        0.2       , 0.25      , 0.2       , 0.14285714, 0.2       ],\n",
              "       [0.05      , 0.09090909, 0.0625    , 0.05882353, 0.06666667,\n",
              "        0.08333333, 0.09090909, 0.08333333, 0.07142857, 0.08333333],\n",
              "       [0.06666667, 0.16666667, 0.09090909, 0.08333333, 0.1       ,\n",
              "        0.14285714, 0.16666667, 0.14285714, 0.11111111, 0.14285714],\n",
              "       [0.07692308, 0.25      , 0.11111111, 0.1       , 0.125     ,\n",
              "        0.2       , 0.25      , 0.2       , 0.14285714, 0.2       ],\n",
              "       [0.05      , 0.09090909, 0.0625    , 0.05882353, 0.06666667,\n",
              "        0.08333333, 0.09090909, 0.08333333, 0.07142857, 0.08333333],\n",
              "       [0.06666667, 0.16666667, 0.09090909, 0.08333333, 0.1       ,\n",
              "        0.14285714, 0.16666667, 0.14285714, 0.11111111, 0.14285714],\n",
              "       [0.05882353, 0.125     , 0.07692308, 0.07142857, 0.08333333,\n",
              "        0.11111111, 0.125     , 0.11111111, 0.09090909, 0.11111111],\n",
              "       [0.05      , 0.09090909, 0.0625    , 0.05882353, 0.06666667,\n",
              "        0.08333333, 0.09090909, 0.08333333, 0.07142857, 0.08333333]])"
            ]
          },
          "metadata": {},
          "execution_count": 108
        }
      ],
      "source": [
        "# X = np.random.randint(0,11,(5,5))\n",
        "# Y = np.random.randint(11,22,(5,5))\n",
        "# C = 1/(Y-X.T)\n",
        "# C\n",
        "\n",
        "Y = np.random.randint(0,11,10)\n",
        "X = np.random.randint(11,22,10)\n",
        "#print(Y.reshape(1,10))\n",
        "Y = np.tile(Y,(10,1))\n",
        "#print(X)\n",
        "X  = np.tile(X,(10,1)).T\n",
        "#print(X)\n",
        "\n",
        "C = 1/(X - Y)\n",
        "C"
      ]
    },
    {
      "cell_type": "markdown",
      "source": [],
      "metadata": {
        "id": "9e4bQ-C0bbXI"
      }
    },
    {
      "cell_type": "markdown",
      "metadata": {
        "id": "bBd22Fb3eRzH"
      },
      "source": [
        "####  47. Given two arrays, X and Y, construct the Cauchy matrix C (Cij =1/(xi - yj)) \n",
        "(**hint**: np.subtract.outer)"
      ]
    },
    {
      "cell_type": "code",
      "execution_count": null,
      "metadata": {
        "id": "s80ID1ZNeRzH",
        "colab": {
          "base_uri": "https://localhost:8080/"
        },
        "outputId": "96ee118a-6f13-40e1-ce6b-69851e64c4a5"
      },
      "outputs": [
        {
          "output_type": "execute_result",
          "data": {
            "text/plain": [
              "array([[0.07142857, 0.0625    , 0.04761905, 0.05      , 0.04761905,\n",
              "        0.05555556, 0.05263158, 0.05882353, 0.06666667, 0.04761905],\n",
              "       [0.16666667, 0.125     , 0.07692308, 0.08333333, 0.07692308,\n",
              "        0.1       , 0.09090909, 0.11111111, 0.14285714, 0.07692308],\n",
              "       [0.16666667, 0.125     , 0.07692308, 0.08333333, 0.07692308,\n",
              "        0.1       , 0.09090909, 0.11111111, 0.14285714, 0.07692308],\n",
              "       [0.07142857, 0.0625    , 0.04761905, 0.05      , 0.04761905,\n",
              "        0.05555556, 0.05263158, 0.05882353, 0.06666667, 0.04761905],\n",
              "       [0.2       , 0.14285714, 0.08333333, 0.09090909, 0.08333333,\n",
              "        0.11111111, 0.1       , 0.125     , 0.16666667, 0.08333333],\n",
              "       [0.14285714, 0.11111111, 0.07142857, 0.07692308, 0.07142857,\n",
              "        0.09090909, 0.08333333, 0.1       , 0.125     , 0.07142857],\n",
              "       [0.09090909, 0.07692308, 0.05555556, 0.05882353, 0.05555556,\n",
              "        0.06666667, 0.0625    , 0.07142857, 0.08333333, 0.05555556],\n",
              "       [0.125     , 0.1       , 0.06666667, 0.07142857, 0.06666667,\n",
              "        0.08333333, 0.07692308, 0.09090909, 0.11111111, 0.06666667],\n",
              "       [0.07142857, 0.0625    , 0.04761905, 0.05      , 0.04761905,\n",
              "        0.05555556, 0.05263158, 0.05882353, 0.06666667, 0.04761905],\n",
              "       [0.25      , 0.16666667, 0.09090909, 0.1       , 0.09090909,\n",
              "        0.125     , 0.11111111, 0.14285714, 0.2       , 0.09090909]])"
            ]
          },
          "metadata": {},
          "execution_count": 5
        }
      ],
      "source": [
        "# X = np.random.randint(0,11,(5,5))\n",
        "# Y = np.random.randint(11,22,(5,5))\n",
        "# C = 1/(Y-X.T)\n",
        "# C\n",
        "\n",
        "Y = np.random.randint(0,11,10)\n",
        "X = np.random.randint(11,22,10)\n",
        "#print(Y.reshape(1,10))\n",
        "Y = np.tile(Y,(10,1))\n",
        "#print(X)\n",
        "X  = np.tile(X,(10,1)).T\n",
        "#print(X)\n",
        "\n",
        "C = 1/(X - Y)\n",
        "C"
      ]
    },
    {
      "cell_type": "markdown",
      "metadata": {
        "id": "uRyTeOqfeRzI"
      },
      "source": [
        "#### 48. Print the minimum and maximum representable value for each numpy scalar type (★★☆) \n",
        "(**hint**: np.iinfo, np.finfo, eps)"
      ]
    },
    {
      "cell_type": "code",
      "execution_count": null,
      "metadata": {
        "id": "GaNObx2ueRzI",
        "colab": {
          "base_uri": "https://localhost:8080/"
        },
        "outputId": "99670bb6-db0a-4f06-ac09-726cb93e5853"
      },
      "outputs": [
        {
          "output_type": "stream",
          "name": "stdout",
          "text": [
            "-128\n",
            "127\n",
            "-2147483648\n",
            "2147483647\n",
            "-9223372036854775808\n",
            "9223372036854775807\n",
            "-3.4028235e+38\n",
            "3.4028235e+38\n",
            "1.1920929e-07\n",
            "-1.7976931348623157e+308\n",
            "1.7976931348623157e+308\n",
            "2.220446049250313e-16\n"
          ]
        }
      ],
      "source": [
        "for dtype in [np.int8, np.int32, np.int64]:\n",
        "    print(np.iinfo(dtype).min)\n",
        "    print(np.iinfo(dtype).max)\n",
        "for dtype in [np.float32, np.float64]:\n",
        "    print(np.finfo(dtype).min)\n",
        "    print(np.finfo(dtype).max)\n",
        "    print(np.finfo(dtype).eps)"
      ]
    },
    {
      "cell_type": "markdown",
      "metadata": {
        "id": "ywoNQsI7eRzJ"
      },
      "source": [
        "#### 49. How to print all the values of an array? (★★☆) \n",
        "(**hint**: np.set\\_printoptions)"
      ]
    },
    {
      "cell_type": "code",
      "execution_count": null,
      "metadata": {
        "id": "8PRYXhmseRzK",
        "colab": {
          "base_uri": "https://localhost:8080/"
        },
        "outputId": "c80bd770-5a0c-4bff-9798-af394af5561b"
      },
      "outputs": [
        {
          "output_type": "stream",
          "name": "stdout",
          "text": [
            "[]\n"
          ]
        }
      ],
      "source": [
        "#np.set_printoptions(threshold=np.nan)\n",
        "#Z = np.zeros((int(1e4),int(1e4)))\n",
        "Z = []\n",
        "print(Z)"
      ]
    },
    {
      "cell_type": "markdown",
      "metadata": {
        "id": "YWKGXU4weRzK"
      },
      "source": [
        "#### 50. How to find the closest value (to a given scalar) in a vector? (★★☆) \n",
        "(**hint**: argmin)"
      ]
    },
    {
      "cell_type": "code",
      "execution_count": null,
      "metadata": {
        "id": "BYwSbE4heRzL",
        "colab": {
          "base_uri": "https://localhost:8080/"
        },
        "outputId": "99b62019-12f3-441d-92e1-ac2d860452d3"
      },
      "outputs": [
        {
          "output_type": "stream",
          "name": "stdout",
          "text": [
            "[8.11957964 9.15298782 3.17914027 1.74491264 7.70837006 3.86505753\n",
            " 7.50038137 6.62058772 1.39627364 7.17084344]\n",
            "************************************************************\n",
            "3.86505753408688\n"
          ]
        }
      ],
      "source": [
        "arr = np.random.uniform(0,10,10)\n",
        "scal = 5\n",
        "arr_1 = np.abs(arr - 5)\n",
        "ind = arr_1.argmin()\n",
        "print(arr)\n",
        "print('*'*60)\n",
        "print(arr[ind])"
      ]
    },
    {
      "cell_type": "markdown",
      "metadata": {
        "id": "-4Xdb8t3eRzL"
      },
      "source": [
        "#### 51. Create a structured array representing a position (x,y) and a color (r,g,b) (★★☆) \n",
        "(**hint**: dtype)"
      ]
    },
    {
      "cell_type": "code",
      "execution_count": null,
      "metadata": {
        "id": "NXn2BQfUeRzL",
        "colab": {
          "base_uri": "https://localhost:8080/"
        },
        "outputId": "7e2d882e-4e35-450d-81b9-9c4322befb42"
      },
      "outputs": [
        {
          "output_type": "stream",
          "name": "stdout",
          "text": [
            "[((0., 0.), (0., 0., 0.)) ((0., 0.), (0., 0., 0.))\n",
            " ((0., 0.), (0., 0., 0.)) ((0., 0.), (0., 0., 0.))\n",
            " ((0., 0.), (0., 0., 0.)) ((0., 0.), (0., 0., 0.))\n",
            " ((0., 0.), (0., 0., 0.)) ((0., 0.), (0., 0., 0.))\n",
            " ((0., 0.), (0., 0., 0.)) ((0., 0.), (0., 0., 0.))]\n"
          ]
        }
      ],
      "source": [
        "Z = np.zeros(10, [ ('position', [ ('x', float),\n",
        "                                  ('y', float)]),\n",
        "                   ('color',    [ ('r', float),\n",
        "                                  ('g', float),\n",
        "                                  ('b', float)])])\n",
        "print(Z)"
      ]
    },
    {
      "cell_type": "markdown",
      "metadata": {
        "id": "Fp02OOdceRzL"
      },
      "source": [
        "#### 52. Consider a random vector with shape (100,2) representing coordinates, find point by point distances (★★☆) \n",
        "(**hint**: np.atleast\\_2d, T, np.sqrt)"
      ]
    },
    {
      "cell_type": "code",
      "execution_count": null,
      "metadata": {
        "id": "4ug4XrMUeRzM",
        "colab": {
          "base_uri": "https://localhost:8080/"
        },
        "outputId": "005bddc4-5727-48a5-8379-1b5db9dcabb3"
      },
      "outputs": [
        {
          "output_type": "stream",
          "name": "stdout",
          "text": [
            "[[0.         0.54674882 0.41005336 0.15091581 0.31854476 0.64421624\n",
            "  0.35003998 0.52157584 0.64734529 0.74344784]\n",
            " [0.54674882 0.         0.50978759 0.46930367 0.54572654 0.09749574\n",
            "  0.64555725 0.36011631 0.44097811 0.69198676]\n",
            " [0.41005336 0.50978759 0.         0.26304515 0.11251681 0.5838534\n",
            "  0.18566563 0.21664406 0.85009256 1.03545458]\n",
            " [0.15091581 0.46930367 0.26304515 0.         0.18539867 0.56466509\n",
            "  0.24735662 0.3758601  0.67579565 0.81822267]\n",
            " [0.31854476 0.54572654 0.11251681 0.18539867 0.         0.63020926\n",
            "  0.10044688 0.31083399 0.8342465  0.99621951]\n",
            " [0.64421624 0.09749574 0.5838534  0.56466509 0.63020926 0.\n",
            "  0.73059501 0.41083568 0.46367659 0.72463802]\n",
            " [0.35003998 0.64555725 0.18566563 0.24735662 0.10044688 0.73059501\n",
            "  0.         0.39972553 0.91785537 1.06526358]\n",
            " [0.52157584 0.36011631 0.21664406 0.3758601  0.31083399 0.41083568\n",
            "  0.39972553 0.         0.76981356 0.99307088]\n",
            " [0.64734529 0.44097811 0.85009256 0.67579565 0.8342465  0.46367659\n",
            "  0.91785537 0.76981356 0.         0.26383212]\n",
            " [0.74344784 0.69198676 1.03545458 0.81822267 0.99621951 0.72463802\n",
            "  1.06526358 0.99307088 0.26383212 0.        ]]\n"
          ]
        }
      ],
      "source": [
        "arr = np.random.random((100,2))\n",
        "X,Y = np.atleast_2d(arr[:,0],arr[:,1])\n",
        "D = np.sqrt( (X-X.T)**2 + (Y-Y.T)**2)\n",
        "\n",
        "# Much faster with scipy\n",
        "import scipy\n",
        "# Thanks Gavin Heverly-Coulson (#issue 1)\n",
        "import scipy.spatial\n",
        "\n",
        "Z = np.random.random((10,2))\n",
        "D = scipy.spatial.distance.cdist(Z,Z)\n",
        "print(D)"
      ]
    },
    {
      "cell_type": "markdown",
      "metadata": {
        "id": "3krt4oBUeRzM"
      },
      "source": [
        "#### 53. How to convert a float (32 bits) array into an integer (32 bits) in place? \n",
        "(**hint**: astype(copy=False))"
      ]
    },
    {
      "cell_type": "code",
      "execution_count": null,
      "metadata": {
        "id": "DbXoOIMseRzN",
        "colab": {
          "base_uri": "https://localhost:8080/"
        },
        "outputId": "a5c1a460-a188-439f-9275-ddf5f99b2536"
      },
      "outputs": [
        {
          "output_type": "stream",
          "name": "stdout",
          "text": [
            "[2. 1. 2. 3. 4. 5. 6. 7. 8. 9.]\n"
          ]
        }
      ],
      "source": [
        "Z = np.arange(10, dtype=np.float32)\n",
        "Z_1 = Z.astype(np.float32, copy=False)\n",
        "Z_1[0] = 2\n",
        "print(Z)"
      ]
    },
    {
      "cell_type": "markdown",
      "metadata": {
        "id": "rM2Lk3Y3eRzN"
      },
      "source": [
        "#### 54. How to read the following file? (★★☆) \n",
        "(**hint**: np.genfromtxt)"
      ]
    },
    {
      "cell_type": "markdown",
      "metadata": {
        "id": "dtEfCjKseRzO"
      },
      "source": [
        "```\n",
        "1, 2, 3, 4, 5\n",
        "6,  ,  , 7, 8\n",
        " ,  , 9,10,11\n",
        "```"
      ]
    },
    {
      "cell_type": "code",
      "execution_count": null,
      "metadata": {
        "id": "ugYw2RvVeRzP",
        "colab": {
          "base_uri": "https://localhost:8080/"
        },
        "outputId": "db5b7ebd-1367-4ca1-fa1e-e6aad8ad7240"
      },
      "outputs": [
        {
          "output_type": "stream",
          "name": "stdout",
          "text": [
            "[[ 1  2  3  4  5]\n",
            " [ 6 -1 -1  7  8]\n",
            " [-1 -1  9 10 11]]\n"
          ]
        },
        {
          "output_type": "stream",
          "name": "stderr",
          "text": [
            "/usr/local/lib/python3.7/dist-packages/ipykernel_launcher.py:7: DeprecationWarning: `np.int` is a deprecated alias for the builtin `int`. To silence this warning, use `int` by itself. Doing this will not modify any behavior and is safe. When replacing `np.int`, you may wish to use e.g. `np.int64` or `np.int32` to specify the precision. If you wish to review your current use, check the release note link for additional information.\n",
            "Deprecated in NumPy 1.20; for more details and guidance: https://numpy.org/devdocs/release/1.20.0-notes.html#deprecations\n",
            "  import sys\n"
          ]
        }
      ],
      "source": [
        "from io import StringIO\n",
        "\n",
        "# Fake file \n",
        "s = StringIO(\"\"\"1, 2, 3, 4, 5\\n\n",
        "                6,  ,  , 7, 8\\n\n",
        "                 ,  , 9,10,11\\n\"\"\")\n",
        "Z = np.genfromtxt(s, delimiter=\",\", dtype=np.int)\n",
        "print(Z)"
      ]
    },
    {
      "cell_type": "markdown",
      "metadata": {
        "id": "ixbmsPpOeRzQ"
      },
      "source": [
        "#### 55. What is the equivalent of enumerate for numpy arrays? (★★☆) \n",
        "(**hint**: np.ndenumerate, np.ndindex)"
      ]
    },
    {
      "cell_type": "code",
      "execution_count": null,
      "metadata": {
        "id": "mkRGiCUheRzQ",
        "colab": {
          "base_uri": "https://localhost:8080/"
        },
        "outputId": "54f77778-e1cf-4317-9bc7-9ae2f28c1c8a"
      },
      "outputs": [
        {
          "output_type": "stream",
          "name": "stdout",
          "text": [
            "(0, 0) 0\n",
            "(0, 1) 1\n",
            "(0, 2) 2\n",
            "(1, 0) 3\n",
            "(1, 1) 4\n",
            "(1, 2) 5\n",
            "(2, 0) 6\n",
            "(2, 1) 7\n",
            "(2, 2) 8\n",
            "(0, 0) 0\n",
            "(0, 1) 1\n",
            "(0, 2) 2\n",
            "(1, 0) 3\n",
            "(1, 1) 4\n",
            "(1, 2) 5\n",
            "(2, 0) 6\n",
            "(2, 1) 7\n",
            "(2, 2) 8\n"
          ]
        }
      ],
      "source": [
        "Z = np.arange(9).reshape(3,3)\n",
        "for index, value in np.ndenumerate(Z):\n",
        "    print(index, value)\n",
        "for index in np.ndindex(Z.shape):\n",
        "    print(index, Z[index])"
      ]
    },
    {
      "cell_type": "markdown",
      "metadata": {
        "id": "Ds6g6tjyeRzQ"
      },
      "source": [
        "#### 56. Generate a generic 2D Gaussian-like array (★★☆) \n",
        "(**hint**: np.meshgrid, np.exp)"
      ]
    },
    {
      "cell_type": "code",
      "execution_count": null,
      "metadata": {
        "id": "TLiQSGqzeRzR",
        "colab": {
          "base_uri": "https://localhost:8080/"
        },
        "outputId": "2821615d-ec22-4f6e-ac13-b971ee0131e9"
      },
      "outputs": [
        {
          "output_type": "stream",
          "name": "stdout",
          "text": [
            "[[0.36787944 0.44822088 0.51979489 0.57375342 0.60279818 0.60279818\n",
            "  0.57375342 0.51979489 0.44822088 0.36787944]\n",
            " [0.44822088 0.54610814 0.63331324 0.69905581 0.73444367 0.73444367\n",
            "  0.69905581 0.63331324 0.54610814 0.44822088]\n",
            " [0.51979489 0.63331324 0.73444367 0.81068432 0.85172308 0.85172308\n",
            "  0.81068432 0.73444367 0.63331324 0.51979489]\n",
            " [0.57375342 0.69905581 0.81068432 0.89483932 0.9401382  0.9401382\n",
            "  0.89483932 0.81068432 0.69905581 0.57375342]\n",
            " [0.60279818 0.73444367 0.85172308 0.9401382  0.98773022 0.98773022\n",
            "  0.9401382  0.85172308 0.73444367 0.60279818]\n",
            " [0.60279818 0.73444367 0.85172308 0.9401382  0.98773022 0.98773022\n",
            "  0.9401382  0.85172308 0.73444367 0.60279818]\n",
            " [0.57375342 0.69905581 0.81068432 0.89483932 0.9401382  0.9401382\n",
            "  0.89483932 0.81068432 0.69905581 0.57375342]\n",
            " [0.51979489 0.63331324 0.73444367 0.81068432 0.85172308 0.85172308\n",
            "  0.81068432 0.73444367 0.63331324 0.51979489]\n",
            " [0.44822088 0.54610814 0.63331324 0.69905581 0.73444367 0.73444367\n",
            "  0.69905581 0.63331324 0.54610814 0.44822088]\n",
            " [0.36787944 0.44822088 0.51979489 0.57375342 0.60279818 0.60279818\n",
            "  0.57375342 0.51979489 0.44822088 0.36787944]]\n"
          ]
        }
      ],
      "source": [
        "sigma,myu = 1.0,0.0\n",
        "\n",
        "X,Y  = np.meshgrid(np.linspace(-1,1,10),np.linspace(-1,1,10))\n",
        "D = np.sqrt(X**2+Y**2)\n",
        "G = np.exp(-(D-myu)**2/(2*sigma**2))\n",
        "print(G)"
      ]
    },
    {
      "cell_type": "markdown",
      "metadata": {
        "id": "u7V2WDD0eRzR"
      },
      "source": [
        "#### 57. How to randomly place p elements in a 2D array? (★★☆) \n",
        "(**hint**: np.put, np.random.choice)"
      ]
    },
    {
      "cell_type": "code",
      "execution_count": null,
      "metadata": {
        "id": "VPqi7qQ9eRzR",
        "colab": {
          "base_uri": "https://localhost:8080/"
        },
        "outputId": "b8681c95-9c09-4489-95c3-d3806c9a3158"
      },
      "outputs": [
        {
          "output_type": "stream",
          "name": "stdout",
          "text": [
            "[[0. 0. 0. 0. 0. 0. 0. 0. 0. 0.]\n",
            " [0. 0. 0. 0. 0. 0. 0. 0. 0. 0.]\n",
            " [0. 0. 0. 0. 0. 0. 0. 0. 0. 0.]\n",
            " [0. 0. 0. 0. 0. 0. 0. 0. 0. 0.]\n",
            " [0. 0. 0. 0. 0. 0. 0. 0. 0. 0.]\n",
            " [0. 0. 0. 0. 0. 1. 0. 0. 0. 0.]\n",
            " [0. 0. 0. 0. 0. 0. 0. 1. 0. 0.]\n",
            " [0. 0. 0. 0. 0. 0. 0. 0. 0. 0.]\n",
            " [0. 0. 0. 0. 0. 0. 0. 0. 0. 1.]\n",
            " [0. 0. 0. 0. 0. 0. 0. 0. 0. 0.]]\n",
            "[[0. 0. 0. 0. 0. 0. 0. 0. 0. 0.]\n",
            " [0. 1. 0. 0. 0. 0. 0. 0. 0. 0.]\n",
            " [0. 0. 0. 0. 0. 0. 0. 0. 0. 0.]\n",
            " [0. 0. 0. 0. 0. 0. 0. 0. 0. 0.]\n",
            " [0. 0. 0. 0. 0. 0. 0. 0. 0. 0.]\n",
            " [0. 0. 0. 0. 0. 1. 0. 0. 0. 0.]\n",
            " [0. 0. 0. 0. 0. 0. 0. 1. 0. 0.]\n",
            " [0. 0. 0. 0. 0. 0. 0. 0. 0. 0.]\n",
            " [0. 0. 0. 0. 0. 0. 0. 0. 0. 1.]\n",
            " [0. 0. 0. 0. 0. 0. 0. 0. 0. 0.]]\n"
          ]
        }
      ],
      "source": [
        "n = 10\n",
        "p = 3\n",
        "Z = np.zeros((n,n))\n",
        "np.put(Z, np.random.choice(range(n*n), p, replace=False),1)\n",
        "print(Z)\n",
        "\n",
        "np.put(Z,11,1)\n",
        "print(Z)"
      ]
    },
    {
      "cell_type": "markdown",
      "metadata": {
        "id": "cAaKpBieeRzR"
      },
      "source": [
        "#### 58. Subtract the mean of each row of a matrix (★★☆) \n",
        "(**hint**: mean(axis=,keepdims=))"
      ]
    },
    {
      "cell_type": "code",
      "execution_count": null,
      "metadata": {
        "id": "44gbuqcveRzS",
        "colab": {
          "base_uri": "https://localhost:8080/"
        },
        "outputId": "ed050f85-a457-4e99-c54d-be9c0198fd87"
      },
      "outputs": [
        {
          "output_type": "execute_result",
          "data": {
            "text/plain": [
              "array([[ True],\n",
              "       [ True],\n",
              "       [ True],\n",
              "       [ True],\n",
              "       [ True]])"
            ]
          },
          "metadata": {},
          "execution_count": 16
        }
      ],
      "source": [
        "X = np.random.rand(5, 10)\n",
        "Y = X - X.mean(axis = 1,keepdims = True)\n",
        "#print(Y)\n",
        "X.mean(axis = 1).reshape(-1,1) == X.mean(axis = 1,keepdims =True)"
      ]
    },
    {
      "cell_type": "markdown",
      "metadata": {
        "id": "9-3gaiJdeRzS"
      },
      "source": [
        "#### 59. How to sort an array by the nth column? (★★☆) \n",
        "(**hint**: argsort)"
      ]
    },
    {
      "cell_type": "code",
      "execution_count": null,
      "metadata": {
        "id": "VJ7nI6VbeRzS",
        "colab": {
          "base_uri": "https://localhost:8080/"
        },
        "outputId": "2e005f22-fbaf-444c-9c0c-981d090fbb63"
      },
      "outputs": [
        {
          "output_type": "stream",
          "name": "stdout",
          "text": [
            "[[9 9 1 4 6]\n",
            " [9 1 6 8 4]\n",
            " [3 5 9 4 3]\n",
            " [6 0 4 9 7]\n",
            " [2 1 3 3 2]]\n",
            "[[9 9 1 4 6]\n",
            " [3 5 9 4 3]\n",
            " [9 1 6 8 4]\n",
            " [2 1 3 3 2]\n",
            " [6 0 4 9 7]]\n",
            "[[9 6 1 4 9]\n",
            " [1 4 6 8 9]\n",
            " [5 3 9 4 3]\n",
            " [0 7 4 9 6]\n",
            " [1 2 3 3 2]]\n"
          ]
        }
      ],
      "source": [
        "Z = np.random.randint(0,10,(5,5))\n",
        "print(Z)\n",
        "\n",
        "\n",
        "# Z_1 = Z\n",
        "# for ind in range(5):\n",
        "#     Z_1[:,ind].sort()\n",
        "#print(Z_1)\n",
        "\n",
        "\n",
        "print(Z[(-Z)[:,1].argsort()])\n",
        "print(Z[:,Z[1,:].argsort()])"
      ]
    },
    {
      "cell_type": "markdown",
      "metadata": {
        "id": "P80D1QXneRzS"
      },
      "source": [
        "#### 60. How to tell if a given 2D array has null columns? (★★☆) \n",
        "(**hint**: any, ~)"
      ]
    },
    {
      "cell_type": "code",
      "execution_count": null,
      "metadata": {
        "id": "efaGj_SVeRzS",
        "colab": {
          "base_uri": "https://localhost:8080/"
        },
        "outputId": "8d7e2e7e-f727-456d-d5bd-ab759e687bff"
      },
      "outputs": [
        {
          "output_type": "stream",
          "name": "stdout",
          "text": [
            "[[ True False False  True  True  True  True  True  True False]\n",
            " [ True False  True False  True False  True False  True False]\n",
            " [ True False  True  True  True  True  True  True False  True]]\n",
            "[[False  True  True False False False False False False  True]\n",
            " [False  True False  True False  True False  True False  True]\n",
            " [False  True False False False False False False  True False]]\n"
          ]
        },
        {
          "output_type": "execute_result",
          "data": {
            "text/plain": [
              "array([ True, False,  True,  True,  True,  True,  True,  True,  True,\n",
              "        True])"
            ]
          },
          "metadata": {},
          "execution_count": 18
        }
      ],
      "source": [
        "Z = np.random.randint(0,3,(3,10))\n",
        "Z[:,1] = 0\n",
        "Z = Z.astype(bool)\n",
        "print(Z)\n",
        "print(~Z)\n",
        "(Z).any(axis = 0)"
      ]
    },
    {
      "cell_type": "markdown",
      "metadata": {
        "id": "rRGvibF8eRzT"
      },
      "source": [
        "#### 61. Find the nearest value from a given value in an array (★★☆) \n",
        "(**hint**: np.abs, argmin, flat)"
      ]
    },
    {
      "cell_type": "code",
      "execution_count": null,
      "metadata": {
        "id": "xEVR3VyxeRzT",
        "colab": {
          "base_uri": "https://localhost:8080/"
        },
        "outputId": "4fc2982c-7914-42f5-9817-776158441516"
      },
      "outputs": [
        {
          "output_type": "stream",
          "name": "stdout",
          "text": [
            "1\n",
            "2\n"
          ]
        }
      ],
      "source": [
        "arr=np.array([8,7,1,5,3,4])\n",
        "difarr=np.absolute(arr-2)\n",
        "index=difarr.argmin()\n",
        "print(arr[index])\n",
        "print(index)"
      ]
    },
    {
      "cell_type": "markdown",
      "metadata": {
        "id": "ogCguboDeRzT"
      },
      "source": [
        "#### 62. Considering two arrays with shape (1,3) and (3,1), how to compute their sum using an iterator? (★★☆) \n",
        "(**hint**: np.nditer)"
      ]
    },
    {
      "cell_type": "code",
      "execution_count": null,
      "metadata": {
        "id": "XOv9BmwreRzU",
        "colab": {
          "base_uri": "https://localhost:8080/"
        },
        "outputId": "f9e24b52-915a-437e-ba7e-362227a5e6a9"
      },
      "outputs": [
        {
          "output_type": "stream",
          "name": "stdout",
          "text": [
            "[[0 1 2]\n",
            " [1 2 3]\n",
            " [2 3 4]]\n"
          ]
        }
      ],
      "source": [
        "A = np.arange(3).reshape(3,1)\n",
        "B = np.arange(3).reshape(1,3)\n",
        "it = np.nditer([A,B,None])\n",
        "for x,y,z in it: z[...] = x + y\n",
        "print(it.operands[2])"
      ]
    },
    {
      "cell_type": "markdown",
      "metadata": {
        "id": "I9uUT8FFeRzU"
      },
      "source": [
        "#### 63. Create an array class that has a name attribute (★★☆) \n",
        "(**hint**: class method)"
      ]
    },
    {
      "cell_type": "code",
      "execution_count": null,
      "metadata": {
        "id": "33ZJLug5eRzU",
        "colab": {
          "base_uri": "https://localhost:8080/"
        },
        "outputId": "75d2fe8e-329a-4fec-ec06-20ed4eb91223"
      },
      "outputs": [
        {
          "output_type": "stream",
          "name": "stdout",
          "text": [
            "range_10\n"
          ]
        }
      ],
      "source": [
        "class NamedArray(np.ndarray):\n",
        "    def __new__(cls, array, name=\"no name\"):\n",
        "        obj = np.asarray(array).view(cls)\n",
        "        obj.name = name\n",
        "        return obj\n",
        "    def __array_finalize__(self, obj):\n",
        "        if obj is None: return\n",
        "        self.info = getattr(obj, 'name', \"no name\")\n",
        "\n",
        "Z = NamedArray(np.arange(10), \"range_10\")\n",
        "print (Z.name)"
      ]
    },
    {
      "cell_type": "markdown",
      "metadata": {
        "id": "qbqzr7CGeRzU"
      },
      "source": [
        "#### 64. Consider a given vector, how to add 1 to each element indexed by a second vector (be careful with repeated indices)? (★★★) \n",
        "(**hint**: np.bincount | np.add.at)"
      ]
    },
    {
      "cell_type": "code",
      "execution_count": null,
      "metadata": {
        "id": "b2_GesO1eRzU",
        "colab": {
          "base_uri": "https://localhost:8080/"
        },
        "outputId": "87b9359d-ec1c-49fc-d74b-4544e7dcfa04"
      },
      "outputs": [
        {
          "output_type": "stream",
          "name": "stdout",
          "text": [
            "[4. 3. 1. 2. 8. 2. 2. 1. 3. 4.]\n",
            "[ 7.  5.  1.  3. 15.  3.  3.  1.  5.  7.]\n"
          ]
        }
      ],
      "source": [
        "Z = np.ones(10)\n",
        "I = np.random.randint(0,len(Z),20)\n",
        "Z += np.bincount(I, minlength=len(Z))\n",
        "print(Z)\n",
        "np.add.at(Z, I, 1)\n",
        "print(Z)"
      ]
    },
    {
      "cell_type": "markdown",
      "metadata": {
        "id": "KYKPPfiZeRzV"
      },
      "source": [
        "#### 65. How to accumulate elements of a vector (X) to an array (F) based on an index list (I)? (★★★) \n",
        "(**hint**: np.bincount)"
      ]
    },
    {
      "cell_type": "code",
      "execution_count": null,
      "metadata": {
        "id": "k7eoUaQgeRzV",
        "colab": {
          "base_uri": "https://localhost:8080/"
        },
        "outputId": "5adbe721-4b26-4b0c-f58c-e9f3eab9a564"
      },
      "outputs": [
        {
          "output_type": "stream",
          "name": "stdout",
          "text": [
            "[0. 7. 0. 6. 5. 0. 0. 0. 0. 3.]\n"
          ]
        }
      ],
      "source": [
        "X = [1,2,3,4,5,6]\n",
        "I = [1,3,9,3,4,1]\n",
        "F = np.bincount(I,X)\n",
        "print(F)"
      ]
    },
    {
      "cell_type": "markdown",
      "metadata": {
        "id": "6x9EylaAeRzV"
      },
      "source": [
        "#### 66. Considering a (w,h,3) image of (dtype=ubyte), compute the number of unique colors (★★★) \n",
        "(**hint**: np.unique)"
      ]
    },
    {
      "cell_type": "code",
      "execution_count": null,
      "metadata": {
        "id": "8BXvQucQeRzV",
        "colab": {
          "base_uri": "https://localhost:8080/"
        },
        "outputId": "7dffdb12-94dd-4a25-b782-340d67cca2ed"
      },
      "outputs": [
        {
          "output_type": "stream",
          "name": "stdout",
          "text": [
            "64\n",
            "64\n"
          ]
        }
      ],
      "source": [
        " w, h = 256, 256\n",
        "I = np.random.randint(0, 4, (h, w, 3)).astype(np.ubyte)\n",
        "colors = np.unique(I.reshape(-1, 3), axis=0)\n",
        "n = len(colors)\n",
        "print(n)\n",
        "\n",
        "\n",
        "w, h = 256, 256\n",
        "I = np.random.randint(0,4,(h,w,3), dtype=np.uint8)\n",
        "\n",
        "# View each pixel as a single 24-bit integer, rather than three 8-bit bytes\n",
        "I24 = np.dot(I.astype(np.uint32),[1,256,65536])\n",
        "\n",
        "# Count unique colours\n",
        "n = len(np.unique(I24))\n",
        "print(n)"
      ]
    },
    {
      "cell_type": "markdown",
      "metadata": {
        "id": "9pj8TyBfeRzV"
      },
      "source": [
        "#### 67. Considering a four dimensions array, how to get sum over the last two axis at once? (★★★) \n",
        "(**hint**: sum(axis=(-2,-1)))"
      ]
    },
    {
      "cell_type": "code",
      "execution_count": null,
      "metadata": {
        "id": "JPLXmyAteRzW",
        "colab": {
          "base_uri": "https://localhost:8080/"
        },
        "outputId": "9dcb0e14-a50d-4bed-d435-b3b4f08ef44b"
      },
      "outputs": [
        {
          "output_type": "stream",
          "name": "stdout",
          "text": [
            "[[56 43 49 46]\n",
            " [59 31 60 51]\n",
            " [54 61 58 44]]\n",
            "[[56 43 49 46]\n",
            " [59 31 60 51]\n",
            " [54 61 58 44]]\n"
          ]
        }
      ],
      "source": [
        "A = np.random.randint(0,10,(3,4,3,4)) \n",
        "sum = A.sum(axis=(-2,-1))\n",
        "print(sum)\n",
        "sum = A.reshape(A.shape[:-2] + (-1,)).sum(axis=-1)\n",
        "print(sum)"
      ]
    },
    {
      "cell_type": "markdown",
      "metadata": {
        "id": "4YZz5vRVeRzW"
      },
      "source": [
        "#### 68. Considering a one-dimensional vector D, how to compute means of subsets of D using a vector S of same size describing subset  indices? (★★★) \n",
        "(**hint**: np.bincount)"
      ]
    },
    {
      "cell_type": "code",
      "execution_count": null,
      "metadata": {
        "id": "brzBY0H2eRzW",
        "colab": {
          "base_uri": "https://localhost:8080/"
        },
        "outputId": "c644f98d-8d42-4093-c981-e7f3bbd42d6b"
      },
      "outputs": [
        {
          "output_type": "stream",
          "name": "stdout",
          "text": [
            "[0.39996216 0.52944385 0.41988734 0.6072918  0.48109398 0.55613223\n",
            " 0.50410667 0.46577371 0.49549084 0.56571352]\n",
            "0    0.399962\n",
            "1    0.529444\n",
            "2    0.419887\n",
            "3    0.607292\n",
            "4    0.481094\n",
            "5    0.556132\n",
            "6    0.504107\n",
            "7    0.465774\n",
            "8    0.495491\n",
            "9    0.565714\n",
            "dtype: float64\n"
          ]
        }
      ],
      "source": [
        "D = np.random.uniform(0,1,100)\n",
        "S = np.random.randint(0,10,100)\n",
        "D_sums = np.bincount(S, weights=D)\n",
        "D_counts = np.bincount(S)\n",
        "D_means = D_sums / D_counts\n",
        "print(D_means)\n",
        "import pandas as pd\n",
        "print(pd.Series(D).groupby(S).mean())"
      ]
    },
    {
      "cell_type": "markdown",
      "metadata": {
        "id": "jwgdfHMPeRzW"
      },
      "source": [
        "#### 69. How to get the diagonal of a dot product? (★★★) \n",
        "(**hint**: np.diag)"
      ]
    },
    {
      "cell_type": "code",
      "execution_count": null,
      "metadata": {
        "id": "qe2kWEGMeRzX",
        "colab": {
          "base_uri": "https://localhost:8080/"
        },
        "outputId": "b90d51f6-a446-42d3-9bfd-f08043e67500"
      },
      "outputs": [
        {
          "output_type": "execute_result",
          "data": {
            "text/plain": [
              "array([1.05020858, 0.95201074, 0.76238908, 1.13721477, 0.57940551])"
            ]
          },
          "metadata": {},
          "execution_count": 27
        }
      ],
      "source": [
        "A = np.random.uniform(0,1,(5,5))\n",
        "B = np.random.uniform(0,1,(5,5))\n",
        "\n",
        "# Slow version\n",
        "np.diag(np.dot(A, B))\n",
        "\n",
        "# Fast version\n",
        "np.sum(A * B.T, axis=1)\n",
        "\n",
        "# Faster version\n",
        "np.einsum(\"ij,ji->i\", A, B)"
      ]
    },
    {
      "cell_type": "markdown",
      "metadata": {
        "id": "SsEuMd_reRzX"
      },
      "source": [
        "#### 70. Consider the vector \\[1, 2, 3, 4, 5\\], how to build a new vector with 3 consecutive zeros interleaved between each value? (★★★) \n",
        "(**hint**: array\\[::4\\])"
      ]
    },
    {
      "cell_type": "code",
      "execution_count": null,
      "metadata": {
        "id": "fnRVdXPIeRzX",
        "colab": {
          "base_uri": "https://localhost:8080/"
        },
        "outputId": "159a1ccc-f898-4267-9002-99e0e4892ded"
      },
      "outputs": [
        {
          "output_type": "stream",
          "name": "stdout",
          "text": [
            "[1. 0. 0. 0. 2. 0. 0. 0. 3. 0. 0. 0. 4. 0. 0. 0. 5.]\n"
          ]
        }
      ],
      "source": [
        "Z = np.array([1,2,3,4,5])\n",
        "nz = 3\n",
        "Z0 = np.zeros(len(Z) + (len(Z)-1)*(nz))\n",
        "Z0[::nz+1] = Z\n",
        "print(Z0)"
      ]
    },
    {
      "cell_type": "markdown",
      "metadata": {
        "id": "VgZyrG6YeRzY"
      },
      "source": [
        "#### 71. Consider an array of dimension (5,5,3), how to mulitply it by an array with dimensions (5,5)? (★★★) \n",
        "(**hint**: array\\[:, :, None\\])"
      ]
    },
    {
      "cell_type": "code",
      "execution_count": null,
      "metadata": {
        "collapsed": true,
        "id": "ObhUUXRteRzY",
        "colab": {
          "base_uri": "https://localhost:8080/"
        },
        "outputId": "b272cfda-bc3b-4c18-e6c4-67020c528c04"
      },
      "outputs": [
        {
          "output_type": "stream",
          "name": "stdout",
          "text": [
            "[[[2. 2. 2.]\n",
            "  [2. 2. 2.]\n",
            "  [2. 2. 2.]\n",
            "  [2. 2. 2.]\n",
            "  [2. 2. 2.]]\n",
            "\n",
            " [[2. 2. 2.]\n",
            "  [2. 2. 2.]\n",
            "  [2. 2. 2.]\n",
            "  [2. 2. 2.]\n",
            "  [2. 2. 2.]]\n",
            "\n",
            " [[2. 2. 2.]\n",
            "  [2. 2. 2.]\n",
            "  [2. 2. 2.]\n",
            "  [2. 2. 2.]\n",
            "  [2. 2. 2.]]\n",
            "\n",
            " [[2. 2. 2.]\n",
            "  [2. 2. 2.]\n",
            "  [2. 2. 2.]\n",
            "  [2. 2. 2.]\n",
            "  [2. 2. 2.]]\n",
            "\n",
            " [[2. 2. 2.]\n",
            "  [2. 2. 2.]\n",
            "  [2. 2. 2.]\n",
            "  [2. 2. 2.]\n",
            "  [2. 2. 2.]]]\n"
          ]
        }
      ],
      "source": [
        "A = np.ones((5,5,3))\n",
        "B = 2*np.ones((5,5))\n",
        "print(A * B[:,:,None])"
      ]
    },
    {
      "cell_type": "markdown",
      "metadata": {
        "id": "Hqb9JPx1eRzZ"
      },
      "source": [
        "#### 72. How to swap two rows of an array? (★★★) \n",
        "(**hint**: array\\[\\[\\]\\] = array\\[\\[\\]\\])"
      ]
    },
    {
      "cell_type": "code",
      "execution_count": null,
      "metadata": {
        "id": "czF3Efs2eRza",
        "colab": {
          "base_uri": "https://localhost:8080/"
        },
        "outputId": "276b0cdf-fb0a-448b-de49-3cd9d2327572"
      },
      "outputs": [
        {
          "output_type": "stream",
          "name": "stdout",
          "text": [
            "[[ 5  6  7  8  9]\n",
            " [ 0  1  2  3  4]\n",
            " [10 11 12 13 14]\n",
            " [15 16 17 18 19]\n",
            " [20 21 22 23 24]]\n"
          ]
        }
      ],
      "source": [
        "A = np.arange(25).reshape(5,5)\n",
        "A[[0,1]] = A[[1,0]]\n",
        "print(A)"
      ]
    },
    {
      "cell_type": "markdown",
      "metadata": {
        "id": "s-ZXSXJ6eRza"
      },
      "source": [
        "#### 73. Consider a set of 10 triplets describing 10 triangles (with shared vertices), find the set of unique line segments composing all the  triangles (★★★) \n",
        "(**hint**: repeat, np.roll, np.sort, view, np.unique)"
      ]
    },
    {
      "cell_type": "code",
      "execution_count": null,
      "metadata": {
        "id": "yw4esdiDeRzb",
        "colab": {
          "base_uri": "https://localhost:8080/"
        },
        "outputId": "1d791dc9-0cf2-4787-9cfc-bb43b84a10b2"
      },
      "outputs": [
        {
          "output_type": "stream",
          "name": "stdout",
          "text": [
            "[( 0,  9) ( 0, 13) ( 2,  8) ( 2, 80) ( 8, 80) ( 9, 13) (12, 24) (12, 40)\n",
            " (16, 69) (16, 76) (24, 40) (25, 28) (25, 91) (28, 91) (45, 51) (45, 93)\n",
            " (47, 54) (47, 60) (47, 73) (47, 98) (49, 54) (49, 61) (51, 93) (52, 55)\n",
            " (52, 88) (54, 61) (54, 73) (55, 88) (60, 98) (69, 76)]\n"
          ]
        }
      ],
      "source": [
        "faces = np.random.randint(0,100,(10,3))\n",
        "F = np.roll(faces.repeat(2,axis=1),-1,axis=1)\n",
        "F = F.reshape(len(F)*3,2)\n",
        "F = np.sort(F,axis=1)\n",
        "G = F.view( dtype=[('p0',F.dtype),('p1',F.dtype)] )\n",
        "G = np.unique(G)\n",
        "print(G)"
      ]
    },
    {
      "cell_type": "markdown",
      "metadata": {
        "id": "9Uc2UbN3eRzb"
      },
      "source": [
        "#### 74. Given an array C that is a bincount, how to produce an array A such that np.bincount(A) == C? (★★★) \n",
        "(**hint**: np.repeat)"
      ]
    },
    {
      "cell_type": "code",
      "execution_count": null,
      "metadata": {
        "id": "oDxdCipgeRzb",
        "colab": {
          "base_uri": "https://localhost:8080/"
        },
        "outputId": "66d512a8-254a-4827-df4e-bdd282dd7cee"
      },
      "outputs": [
        {
          "output_type": "stream",
          "name": "stdout",
          "text": [
            "[1 1 2 3 4 4 6]\n"
          ]
        }
      ],
      "source": [
        "C = np.bincount([1,1,2,3,4,4,6])\n",
        "A = np.repeat(np.arange(len(C)), C)\n",
        "print(A)"
      ]
    },
    {
      "cell_type": "markdown",
      "metadata": {
        "id": "7CmJ4SFWeRzc"
      },
      "source": [
        "#### 75. How to compute averages using a sliding window over an array? (★★★) \n",
        "(**hint**: np.cumsum)"
      ]
    },
    {
      "cell_type": "code",
      "execution_count": null,
      "metadata": {
        "id": "TtfMxbjneRzc",
        "colab": {
          "base_uri": "https://localhost:8080/"
        },
        "outputId": "922d5a5d-e77b-40f2-e23d-7e4326a31069"
      },
      "outputs": [
        {
          "output_type": "stream",
          "name": "stdout",
          "text": [
            "[ 1.  2.  3.  4.  5.  6.  7.  8.  9. 10. 11. 12. 13. 14. 15. 16. 17. 18.]\n",
            "[ 1.  2.  3.  4.  5.  6.  7.  8.  9. 10. 11. 12. 13. 14. 15. 16. 17. 18.]\n"
          ]
        }
      ],
      "source": [
        "def moving_average(a, n=3) :\n",
        "    ret = np.cumsum(a, dtype=float)\n",
        "    ret[n:] = ret[n:] - ret[:-n]\n",
        "    return ret[n - 1:] / n\n",
        "Z = np.arange(20)\n",
        "print(moving_average(Z, n=3))\n",
        "\n",
        "from numpy.lib.stride_tricks import sliding_window_view\n",
        "\n",
        "Z = np.arange(20)\n",
        "print(sliding_window_view(Z, window_shape=3).mean(axis=-1))"
      ]
    },
    {
      "cell_type": "markdown",
      "metadata": {
        "id": "QhKQWbsyeRzc"
      },
      "source": [
        "#### 76. Consider a one-dimensional array Z, build a two-dimensional array whose first row is (Z\\[0\\],Z\\[1\\],Z\\[2\\]) and each subsequent row is  shifted by 1 (last row should be (Z\\[-3\\],Z\\[-2\\],Z\\[-1\\]) (★★★) \n",
        "(**hint**: from numpy.lib import stride_tricks)"
      ]
    },
    {
      "cell_type": "code",
      "execution_count": null,
      "metadata": {
        "id": "vz0A3U76eRzc",
        "colab": {
          "base_uri": "https://localhost:8080/"
        },
        "outputId": "fcee0033-49ad-44fe-f698-0e5289dd1038"
      },
      "outputs": [
        {
          "output_type": "stream",
          "name": "stdout",
          "text": [
            "[[0 1 2]\n",
            " [1 2 3]\n",
            " [2 3 4]\n",
            " [3 4 5]\n",
            " [4 5 6]\n",
            " [5 6 7]\n",
            " [6 7 8]\n",
            " [7 8 9]]\n",
            "[[0 1 2]\n",
            " [1 2 3]\n",
            " [2 3 4]\n",
            " [3 4 5]\n",
            " [4 5 6]\n",
            " [5 6 7]\n",
            " [6 7 8]\n",
            " [7 8 9]]\n"
          ]
        }
      ],
      "source": [
        "from numpy.lib import stride_tricks\n",
        "\n",
        "def rolling(a, window):\n",
        "    shape = (a.size - window + 1, window)\n",
        "    strides = (a.strides[0], a.strides[0])\n",
        "    return stride_tricks.as_strided(a, shape=shape, strides=strides)\n",
        "Z = rolling(np.arange(10), 3)\n",
        "print(Z)\n",
        "\n",
        "Z = np.arange(10)\n",
        "print(sliding_window_view(Z, window_shape=3))"
      ]
    },
    {
      "cell_type": "markdown",
      "metadata": {
        "id": "-tKA9oejeRzc"
      },
      "source": [
        "#### 77. How to negate a boolean, or to change the sign of a float inplace? (★★★) \n",
        "(**hint**: np.logical_not, np.negative)"
      ]
    },
    {
      "cell_type": "code",
      "execution_count": null,
      "metadata": {
        "id": "OqDapDejeRzd",
        "colab": {
          "base_uri": "https://localhost:8080/"
        },
        "outputId": "ff7ac397-415e-4f3b-9b1d-9c4fc77e1eb2"
      },
      "outputs": [
        {
          "output_type": "execute_result",
          "data": {
            "text/plain": [
              "array([-0.92393002,  0.3576374 ,  0.71279398,  0.34643582,  0.88350439,\n",
              "       -0.56464465, -0.90440042, -0.05049994, -0.69786988, -0.06951832,\n",
              "       -0.18681777, -0.6249326 , -0.19045464,  0.96664411, -0.61806869,\n",
              "       -0.88451874, -0.20683923,  0.85247773, -0.39973071, -0.13265934,\n",
              "        0.72795847, -0.02343472,  0.33867728, -0.98195484,  0.54184388,\n",
              "        0.27002303, -0.29806969, -0.43726981,  0.36133784, -0.84715094,\n",
              "       -0.69332228, -0.83106504, -0.28346687,  0.98262242,  0.5119561 ,\n",
              "       -0.93214313, -0.77475742,  0.45817369, -0.48806544, -0.10375762,\n",
              "        0.45386039, -0.99914272,  0.16330127,  0.77013124, -0.53340043,\n",
              "        0.28783771,  0.44268808, -0.90805792,  0.3919344 ,  0.16533973,\n",
              "       -0.15064575, -0.98263444, -0.52304174,  0.16056292,  0.10674647,\n",
              "        0.62903702,  0.72387046,  0.54983823,  0.92656862, -0.16712893,\n",
              "       -0.02562563, -0.69147331,  0.86617033,  0.38888283, -0.02799532,\n",
              "       -0.29473042,  0.77624045, -0.08323858,  0.28268795, -0.9006117 ,\n",
              "       -0.04485573, -0.44469118, -0.5110589 , -0.28693974,  0.40434553,\n",
              "       -0.53205682, -0.10097208,  0.27077871,  0.01146941, -0.5778107 ,\n",
              "       -0.7916203 , -0.15637952,  0.70357798,  0.98293679, -0.13215997,\n",
              "       -0.42222806,  0.01444872, -0.73488049, -0.9111606 , -0.2806486 ,\n",
              "        0.92061342,  0.34802901,  0.96774666,  0.23191367, -0.36629719,\n",
              "        0.17811503, -0.33500358, -0.89519546,  0.35559854, -0.08515631])"
            ]
          },
          "metadata": {},
          "execution_count": 35
        }
      ],
      "source": [
        "Z = np.random.randint(0,2,100)\n",
        "np.logical_not(Z, out=Z)\n",
        "\n",
        "Z = np.random.uniform(-1.0,1.0,100)\n",
        "np.negative(Z, out=Z)"
      ]
    },
    {
      "cell_type": "markdown",
      "metadata": {
        "id": "M0mg4U-1eRzd"
      },
      "source": [
        "#### 78. Consider 2 sets of points P0,P1 describing lines (2d) and a point p, how to compute distance from p to each line i  (P0\\[i\\],P1\\[i\\])? (★★★)"
      ]
    },
    {
      "cell_type": "code",
      "execution_count": null,
      "metadata": {
        "id": "uoriPJ06eRzd",
        "colab": {
          "base_uri": "https://localhost:8080/"
        },
        "outputId": "10ad1c96-848b-4656-fc02-d0f95564efce"
      },
      "outputs": [
        {
          "output_type": "stream",
          "name": "stdout",
          "text": [
            "[ 1.75159296  5.69993553  0.25940545  9.94669318  4.41498774 11.49267594\n",
            "  9.8752963   6.24357427  7.81310653  7.44573188]\n"
          ]
        }
      ],
      "source": [
        "def distance(P0, P1, p):\n",
        "    T = P1 - P0\n",
        "    L = (T**2).sum(axis=1)\n",
        "    U = -((P0[:,0]-p[...,0])*T[:,0] + (P0[:,1]-p[...,1])*T[:,1]) / L\n",
        "    U = U.reshape(len(U),1)\n",
        "    D = P0 + U*T - p\n",
        "    return np.sqrt((D**2).sum(axis=1))\n",
        "\n",
        "P0 = np.random.uniform(-10,10,(10,2))\n",
        "P1 = np.random.uniform(-10,10,(10,2))\n",
        "p  = np.random.uniform(-10,10,( 1,2))\n",
        "print(distance(P0, P1, p))"
      ]
    },
    {
      "cell_type": "markdown",
      "metadata": {
        "id": "rwmudkhTeRzd"
      },
      "source": [
        "#### 79. Consider 2 sets of points P0,P1 describing lines (2d) and a set of points P, how to compute distance from each point j (P\\[j\\]) to each line i (P0\\[i\\],P1\\[i\\])? (★★★)"
      ]
    },
    {
      "cell_type": "code",
      "execution_count": null,
      "metadata": {
        "id": "0lb6EwuDeRze",
        "colab": {
          "base_uri": "https://localhost:8080/"
        },
        "outputId": "4eaab5a9-e473-417f-d542-9f4e170ae90f"
      },
      "outputs": [
        {
          "output_type": "stream",
          "name": "stdout",
          "text": [
            "[[7.26444613e+00 2.10430027e+00 9.86316323e+00 8.02242412e+00\n",
            "  1.50657946e+01 2.42178952e+00 2.69632901e+00 2.47805072e+00\n",
            "  1.28700942e+01 1.69355949e+00]\n",
            " [4.74733373e+00 8.75642589e+00 1.00243893e+01 1.88968697e+00\n",
            "  3.33598528e+00 9.32065824e+00 1.00006272e+01 7.50406459e+00\n",
            "  1.52021272e+01 5.10448576e-01]\n",
            " [6.76393105e+00 9.79401822e+00 1.21461271e+01 3.56831664e+00\n",
            "  2.95647535e+00 9.47659151e+00 1.18135979e+01 8.83182149e+00\n",
            "  1.73274798e+01 1.62216383e+00]\n",
            " [3.70759190e+00 5.63763212e+00 8.33324099e+00 1.88239524e+00\n",
            "  6.12560872e+00 6.70294083e+00 7.03228178e+00 4.34543501e+00\n",
            "  1.30467343e+01 2.42729841e+00]\n",
            " [3.00812673e+00 5.83908928e+00 5.86579768e-01 1.04359728e+00\n",
            "  1.54422226e+01 1.69330350e+00 5.31847543e+00 7.75682250e+00\n",
            "  2.67944247e+00 1.20666043e+01]\n",
            " [4.28353922e+00 3.31239341e+00 8.33329266e+00 3.23255595e+00\n",
            "  8.64907798e+00 4.17307655e+00 5.48676227e+00 2.21444327e+00\n",
            "  1.25786803e+01 2.64745206e+00]\n",
            " [1.21608489e-01 4.06174094e+00 4.39553732e+00 1.43603268e+00\n",
            "  6.45035890e+00 6.79408456e+00 3.90009550e+00 2.20181423e+00\n",
            "  9.17273354e+00 6.35206110e+00]\n",
            " [3.00358895e+00 1.79359778e+00 5.95867822e+00 3.64429536e+00\n",
            "  1.33548185e+01 2.93280376e-01 8.35716425e-01 2.88677368e+00\n",
            "  9.40589410e+00 5.40780875e+00]\n",
            " [8.82547740e-01 1.57711478e-01 4.43029503e+00 8.68135106e-01\n",
            "  1.06994124e+01 2.53059390e+00 1.32355470e+00 1.36992056e+00\n",
            "  8.41819701e+00 6.68845171e+00]\n",
            " [3.85409030e+00 1.15360496e+01 2.69278153e+00 1.51597212e-04\n",
            "  2.08837495e+01 6.92571512e+00 1.02202241e+01 1.33519698e+01\n",
            "  3.69868166e-01 1.46255689e+01]]\n"
          ]
        }
      ],
      "source": [
        "P0 = np.random.uniform(-10, 10, (10,2))\n",
        "P1 = np.random.uniform(-10,10,(10,2))\n",
        "p = np.random.uniform(-10, 10, (10,2))\n",
        "print(np.array([distance(P0,P1,p_i) for p_i in p]))"
      ]
    },
    {
      "cell_type": "markdown",
      "metadata": {
        "id": "FvcuCT7KeRze"
      },
      "source": [
        "#### 80. Consider an arbitrary array, write a function that extract a subpart with a fixed shape and centered on a given element (pad with a `fill` value when necessary) (★★★) \n",
        "(**hint**: minimum, maximum)"
      ]
    },
    {
      "cell_type": "code",
      "execution_count": null,
      "metadata": {
        "id": "g-iSfyx-eRze",
        "colab": {
          "base_uri": "https://localhost:8080/"
        },
        "outputId": "b3292703-72b2-4c88-a40d-54cf602278c6"
      },
      "outputs": [
        {
          "output_type": "stream",
          "name": "stdout",
          "text": [
            "[[8 7 0 8 0 3 5 0 4 2]\n",
            " [3 0 2 8 8 6 0 1 9 5]\n",
            " [3 7 3 7 8 3 1 8 2 7]\n",
            " [1 7 4 4 1 0 2 8 4 3]\n",
            " [7 9 0 6 9 9 5 8 4 7]\n",
            " [7 6 0 6 9 1 2 1 5 7]\n",
            " [8 5 9 8 7 4 8 9 2 5]\n",
            " [8 4 2 7 8 0 7 4 7 2]\n",
            " [1 0 1 6 9 7 1 3 5 2]\n",
            " [4 6 5 7 3 6 3 9 3 4]]\n",
            "[[0 0 0 0 0]\n",
            " [0 8 7 0 8]\n",
            " [0 3 0 2 8]\n",
            " [0 3 7 3 7]\n",
            " [0 1 7 4 4]]\n"
          ]
        },
        {
          "output_type": "stream",
          "name": "stderr",
          "text": [
            "/usr/local/lib/python3.7/dist-packages/ipykernel_launcher.py:23: FutureWarning: Using a non-tuple sequence for multidimensional indexing is deprecated; use `arr[tuple(seq)]` instead of `arr[seq]`. In the future this will be interpreted as an array index, `arr[np.array(seq)]`, which will result either in an error or a different result.\n"
          ]
        }
      ],
      "source": [
        "Z = np.random.randint(0,10,(10,10))\n",
        "shape = (5,5)\n",
        "fill  = 0\n",
        "position = (1,1)\n",
        "\n",
        "R = np.ones(shape, dtype=Z.dtype)*fill\n",
        "P  = np.array(list(position)).astype(int)\n",
        "Rs = np.array(list(R.shape)).astype(int)\n",
        "Zs = np.array(list(Z.shape)).astype(int)\n",
        "\n",
        "R_start = np.zeros((len(shape),)).astype(int)\n",
        "R_stop  = np.array(list(shape)).astype(int)\n",
        "Z_start = (P-Rs//2)\n",
        "Z_stop  = (P+Rs//2)+Rs%2\n",
        "\n",
        "R_start = (R_start - np.minimum(Z_start,0)).tolist()\n",
        "Z_start = (np.maximum(Z_start,0)).tolist()\n",
        "R_stop = np.maximum(R_start, (R_stop - np.maximum(Z_stop-Zs,0))).tolist()\n",
        "Z_stop = (np.minimum(Z_stop,Zs)).tolist()\n",
        "\n",
        "r = [slice(start,stop) for start,stop in zip(R_start,R_stop)]\n",
        "z = [slice(start,stop) for start,stop in zip(Z_start,Z_stop)]\n",
        "R[r] = Z[z]\n",
        "print(Z)\n",
        "print(R)"
      ]
    },
    {
      "cell_type": "markdown",
      "metadata": {
        "id": "PgyKu58JeRzf"
      },
      "source": [
        "#### 81. Consider an array Z = \\[1,2,3,4,5,6,7,8,9,10,11,12,13,14\\], how to generate an array R = \\[\\[1,2,3,4\\], \\[2,3,4,5\\], \\[3,4,5,6\\], ..., \\[11,12,13,14\\]\\]? (★★★) \n",
        "(**hint**: stride\\_tricks.as\\_strided)"
      ]
    },
    {
      "cell_type": "code",
      "execution_count": null,
      "metadata": {
        "id": "_nVsU-QfeRzf",
        "colab": {
          "base_uri": "https://localhost:8080/"
        },
        "outputId": "6d927bee-0614-46ba-87b2-0d5adeddd0a1"
      },
      "outputs": [
        {
          "output_type": "stream",
          "name": "stdout",
          "text": [
            "[[ 1  2  3  4]\n",
            " [ 2  3  4  5]\n",
            " [ 3  4  5  6]\n",
            " [ 4  5  6  7]\n",
            " [ 5  6  7  8]\n",
            " [ 6  7  8  9]\n",
            " [ 7  8  9 10]\n",
            " [ 8  9 10 11]\n",
            " [ 9 10 11 12]\n",
            " [10 11 12 13]\n",
            " [11 12 13 14]]\n",
            "[[ 1  2  3  4]\n",
            " [ 2  3  4  5]\n",
            " [ 3  4  5  6]\n",
            " [ 4  5  6  7]\n",
            " [ 5  6  7  8]\n",
            " [ 6  7  8  9]\n",
            " [ 7  8  9 10]\n",
            " [ 8  9 10 11]\n",
            " [ 9 10 11 12]\n",
            " [10 11 12 13]\n",
            " [11 12 13 14]]\n"
          ]
        }
      ],
      "source": [
        "Z = np.arange(1,15,dtype=np.uint32)\n",
        "R = stride_tricks.as_strided(Z,(11,4),(4,4))\n",
        "print(R)\n",
        "Z = np.arange(1, 15, dtype=np.uint32)\n",
        "print(sliding_window_view(Z, window_shape=4))\n"
      ]
    },
    {
      "cell_type": "markdown",
      "metadata": {
        "id": "11uLidkbeRzg"
      },
      "source": [
        "#### 82. Compute a matrix rank (★★★) \n",
        "(**hint**: np.linalg.svd) (suggestion: np.linalg.svd)"
      ]
    },
    {
      "cell_type": "code",
      "execution_count": null,
      "metadata": {
        "id": "yQ8MX9O_eRzg",
        "colab": {
          "base_uri": "https://localhost:8080/"
        },
        "outputId": "387efd57-2ca1-4057-abe2-57dd6d987ff9"
      },
      "outputs": [
        {
          "output_type": "stream",
          "name": "stdout",
          "text": [
            "10\n",
            "10\n"
          ]
        }
      ],
      "source": [
        "Z = np.random.uniform(0,1,(10,10))\n",
        "U, S, V = np.linalg.svd(Z) # Singular Value Decomposition\n",
        "rank = np.sum(S > 1e-10)\n",
        "print(rank)\n",
        "\n",
        "rank = np.linalg.matrix_rank(Z)\n",
        "print(rank)"
      ]
    },
    {
      "cell_type": "markdown",
      "metadata": {
        "id": "HCm1AkvWeRzg"
      },
      "source": [
        "#### 83. How to find the most frequent value in an array? \n",
        "(**hint**: np.bincount, argmax)"
      ]
    },
    {
      "cell_type": "code",
      "execution_count": null,
      "metadata": {
        "id": "vglLAoLZeRzh",
        "colab": {
          "base_uri": "https://localhost:8080/"
        },
        "outputId": "9b2040d4-ad17-4093-953b-90f04bea87d2"
      },
      "outputs": [
        {
          "output_type": "stream",
          "name": "stdout",
          "text": [
            "3\n"
          ]
        }
      ],
      "source": [
        "Z = np.random.randint(0,10,50)\n",
        "print(np.bincount(Z).argmax())"
      ]
    },
    {
      "cell_type": "markdown",
      "metadata": {
        "id": "7PE-39TjeRzh"
      },
      "source": [
        "#### 84. Extract all the contiguous 3x3 blocks from a random 10x10 matrix (★★★) \n",
        "(**hint**: stride\\_tricks.as\\_strided)"
      ]
    },
    {
      "cell_type": "code",
      "execution_count": null,
      "metadata": {
        "id": "59NcEFJaeRzh",
        "colab": {
          "base_uri": "https://localhost:8080/"
        },
        "outputId": "f6b4778b-ad71-48ec-8ca9-b01b1811734c"
      },
      "outputs": [
        {
          "output_type": "stream",
          "name": "stdout",
          "text": [
            "[[[[3 4 1]\n",
            "   [2 2 0]\n",
            "   [2 1 4]]\n",
            "\n",
            "  [[4 1 2]\n",
            "   [2 0 4]\n",
            "   [1 4 1]]\n",
            "\n",
            "  [[1 2 2]\n",
            "   [0 4 3]\n",
            "   [4 1 2]]\n",
            "\n",
            "  [[2 2 4]\n",
            "   [4 3 2]\n",
            "   [1 2 4]]\n",
            "\n",
            "  [[2 4 3]\n",
            "   [3 2 4]\n",
            "   [2 4 2]]\n",
            "\n",
            "  [[4 3 1]\n",
            "   [2 4 1]\n",
            "   [4 2 3]]\n",
            "\n",
            "  [[3 1 1]\n",
            "   [4 1 0]\n",
            "   [2 3 2]]\n",
            "\n",
            "  [[1 1 3]\n",
            "   [1 0 2]\n",
            "   [3 2 4]]]\n",
            "\n",
            "\n",
            " [[[2 2 0]\n",
            "   [2 1 4]\n",
            "   [2 2 1]]\n",
            "\n",
            "  [[2 0 4]\n",
            "   [1 4 1]\n",
            "   [2 1 1]]\n",
            "\n",
            "  [[0 4 3]\n",
            "   [4 1 2]\n",
            "   [1 1 2]]\n",
            "\n",
            "  [[4 3 2]\n",
            "   [1 2 4]\n",
            "   [1 2 2]]\n",
            "\n",
            "  [[3 2 4]\n",
            "   [2 4 2]\n",
            "   [2 2 3]]\n",
            "\n",
            "  [[2 4 1]\n",
            "   [4 2 3]\n",
            "   [2 3 1]]\n",
            "\n",
            "  [[4 1 0]\n",
            "   [2 3 2]\n",
            "   [3 1 1]]\n",
            "\n",
            "  [[1 0 2]\n",
            "   [3 2 4]\n",
            "   [1 1 2]]]\n",
            "\n",
            "\n",
            " [[[2 1 4]\n",
            "   [2 2 1]\n",
            "   [3 1 2]]\n",
            "\n",
            "  [[1 4 1]\n",
            "   [2 1 1]\n",
            "   [1 2 1]]\n",
            "\n",
            "  [[4 1 2]\n",
            "   [1 1 2]\n",
            "   [2 1 3]]\n",
            "\n",
            "  [[1 2 4]\n",
            "   [1 2 2]\n",
            "   [1 3 3]]\n",
            "\n",
            "  [[2 4 2]\n",
            "   [2 2 3]\n",
            "   [3 3 0]]\n",
            "\n",
            "  [[4 2 3]\n",
            "   [2 3 1]\n",
            "   [3 0 3]]\n",
            "\n",
            "  [[2 3 2]\n",
            "   [3 1 1]\n",
            "   [0 3 4]]\n",
            "\n",
            "  [[3 2 4]\n",
            "   [1 1 2]\n",
            "   [3 4 2]]]\n",
            "\n",
            "\n",
            " [[[2 2 1]\n",
            "   [3 1 2]\n",
            "   [1 1 4]]\n",
            "\n",
            "  [[2 1 1]\n",
            "   [1 2 1]\n",
            "   [1 4 3]]\n",
            "\n",
            "  [[1 1 2]\n",
            "   [2 1 3]\n",
            "   [4 3 1]]\n",
            "\n",
            "  [[1 2 2]\n",
            "   [1 3 3]\n",
            "   [3 1 3]]\n",
            "\n",
            "  [[2 2 3]\n",
            "   [3 3 0]\n",
            "   [1 3 3]]\n",
            "\n",
            "  [[2 3 1]\n",
            "   [3 0 3]\n",
            "   [3 3 3]]\n",
            "\n",
            "  [[3 1 1]\n",
            "   [0 3 4]\n",
            "   [3 3 4]]\n",
            "\n",
            "  [[1 1 2]\n",
            "   [3 4 2]\n",
            "   [3 4 2]]]\n",
            "\n",
            "\n",
            " [[[3 1 2]\n",
            "   [1 1 4]\n",
            "   [1 2 3]]\n",
            "\n",
            "  [[1 2 1]\n",
            "   [1 4 3]\n",
            "   [2 3 2]]\n",
            "\n",
            "  [[2 1 3]\n",
            "   [4 3 1]\n",
            "   [3 2 2]]\n",
            "\n",
            "  [[1 3 3]\n",
            "   [3 1 3]\n",
            "   [2 2 0]]\n",
            "\n",
            "  [[3 3 0]\n",
            "   [1 3 3]\n",
            "   [2 0 4]]\n",
            "\n",
            "  [[3 0 3]\n",
            "   [3 3 3]\n",
            "   [0 4 3]]\n",
            "\n",
            "  [[0 3 4]\n",
            "   [3 3 4]\n",
            "   [4 3 2]]\n",
            "\n",
            "  [[3 4 2]\n",
            "   [3 4 2]\n",
            "   [3 2 3]]]\n",
            "\n",
            "\n",
            " [[[1 1 4]\n",
            "   [1 2 3]\n",
            "   [1 4 2]]\n",
            "\n",
            "  [[1 4 3]\n",
            "   [2 3 2]\n",
            "   [4 2 0]]\n",
            "\n",
            "  [[4 3 1]\n",
            "   [3 2 2]\n",
            "   [2 0 0]]\n",
            "\n",
            "  [[3 1 3]\n",
            "   [2 2 0]\n",
            "   [0 0 0]]\n",
            "\n",
            "  [[1 3 3]\n",
            "   [2 0 4]\n",
            "   [0 0 4]]\n",
            "\n",
            "  [[3 3 3]\n",
            "   [0 4 3]\n",
            "   [0 4 2]]\n",
            "\n",
            "  [[3 3 4]\n",
            "   [4 3 2]\n",
            "   [4 2 4]]\n",
            "\n",
            "  [[3 4 2]\n",
            "   [3 2 3]\n",
            "   [2 4 0]]]\n",
            "\n",
            "\n",
            " [[[1 2 3]\n",
            "   [1 4 2]\n",
            "   [4 1 2]]\n",
            "\n",
            "  [[2 3 2]\n",
            "   [4 2 0]\n",
            "   [1 2 0]]\n",
            "\n",
            "  [[3 2 2]\n",
            "   [2 0 0]\n",
            "   [2 0 4]]\n",
            "\n",
            "  [[2 2 0]\n",
            "   [0 0 0]\n",
            "   [0 4 1]]\n",
            "\n",
            "  [[2 0 4]\n",
            "   [0 0 4]\n",
            "   [4 1 0]]\n",
            "\n",
            "  [[0 4 3]\n",
            "   [0 4 2]\n",
            "   [1 0 1]]\n",
            "\n",
            "  [[4 3 2]\n",
            "   [4 2 4]\n",
            "   [0 1 0]]\n",
            "\n",
            "  [[3 2 3]\n",
            "   [2 4 0]\n",
            "   [1 0 3]]]\n",
            "\n",
            "\n",
            " [[[1 4 2]\n",
            "   [4 1 2]\n",
            "   [4 3 4]]\n",
            "\n",
            "  [[4 2 0]\n",
            "   [1 2 0]\n",
            "   [3 4 2]]\n",
            "\n",
            "  [[2 0 0]\n",
            "   [2 0 4]\n",
            "   [4 2 4]]\n",
            "\n",
            "  [[0 0 0]\n",
            "   [0 4 1]\n",
            "   [2 4 4]]\n",
            "\n",
            "  [[0 0 4]\n",
            "   [4 1 0]\n",
            "   [4 4 0]]\n",
            "\n",
            "  [[0 4 2]\n",
            "   [1 0 1]\n",
            "   [4 0 4]]\n",
            "\n",
            "  [[4 2 4]\n",
            "   [0 1 0]\n",
            "   [0 4 1]]\n",
            "\n",
            "  [[2 4 0]\n",
            "   [1 0 3]\n",
            "   [4 1 0]]]]\n",
            "[[[[0 4 3]\n",
            "   [1 0 3]\n",
            "   [0 1 4]]\n",
            "\n",
            "  [[4 3 0]\n",
            "   [0 3 1]\n",
            "   [1 4 0]]\n",
            "\n",
            "  [[3 0 4]\n",
            "   [3 1 1]\n",
            "   [4 0 3]]\n",
            "\n",
            "  [[0 4 3]\n",
            "   [1 1 2]\n",
            "   [0 3 0]]\n",
            "\n",
            "  [[4 3 2]\n",
            "   [1 2 2]\n",
            "   [3 0 0]]\n",
            "\n",
            "  [[3 2 4]\n",
            "   [2 2 0]\n",
            "   [0 0 2]]\n",
            "\n",
            "  [[2 4 2]\n",
            "   [2 0 4]\n",
            "   [0 2 1]]\n",
            "\n",
            "  [[4 2 0]\n",
            "   [0 4 1]\n",
            "   [2 1 2]]]\n",
            "\n",
            "\n",
            " [[[1 0 3]\n",
            "   [0 1 4]\n",
            "   [1 1 3]]\n",
            "\n",
            "  [[0 3 1]\n",
            "   [1 4 0]\n",
            "   [1 3 0]]\n",
            "\n",
            "  [[3 1 1]\n",
            "   [4 0 3]\n",
            "   [3 0 1]]\n",
            "\n",
            "  [[1 1 2]\n",
            "   [0 3 0]\n",
            "   [0 1 3]]\n",
            "\n",
            "  [[1 2 2]\n",
            "   [3 0 0]\n",
            "   [1 3 1]]\n",
            "\n",
            "  [[2 2 0]\n",
            "   [0 0 2]\n",
            "   [3 1 2]]\n",
            "\n",
            "  [[2 0 4]\n",
            "   [0 2 1]\n",
            "   [1 2 1]]\n",
            "\n",
            "  [[0 4 1]\n",
            "   [2 1 2]\n",
            "   [2 1 3]]]\n",
            "\n",
            "\n",
            " [[[0 1 4]\n",
            "   [1 1 3]\n",
            "   [2 2 1]]\n",
            "\n",
            "  [[1 4 0]\n",
            "   [1 3 0]\n",
            "   [2 1 3]]\n",
            "\n",
            "  [[4 0 3]\n",
            "   [3 0 1]\n",
            "   [1 3 1]]\n",
            "\n",
            "  [[0 3 0]\n",
            "   [0 1 3]\n",
            "   [3 1 3]]\n",
            "\n",
            "  [[3 0 0]\n",
            "   [1 3 1]\n",
            "   [1 3 4]]\n",
            "\n",
            "  [[0 0 2]\n",
            "   [3 1 2]\n",
            "   [3 4 3]]\n",
            "\n",
            "  [[0 2 1]\n",
            "   [1 2 1]\n",
            "   [4 3 3]]\n",
            "\n",
            "  [[2 1 2]\n",
            "   [2 1 3]\n",
            "   [3 3 4]]]\n",
            "\n",
            "\n",
            " [[[1 1 3]\n",
            "   [2 2 1]\n",
            "   [0 4 1]]\n",
            "\n",
            "  [[1 3 0]\n",
            "   [2 1 3]\n",
            "   [4 1 0]]\n",
            "\n",
            "  [[3 0 1]\n",
            "   [1 3 1]\n",
            "   [1 0 4]]\n",
            "\n",
            "  [[0 1 3]\n",
            "   [3 1 3]\n",
            "   [0 4 3]]\n",
            "\n",
            "  [[1 3 1]\n",
            "   [1 3 4]\n",
            "   [4 3 4]]\n",
            "\n",
            "  [[3 1 2]\n",
            "   [3 4 3]\n",
            "   [3 4 3]]\n",
            "\n",
            "  [[1 2 1]\n",
            "   [4 3 3]\n",
            "   [4 3 3]]\n",
            "\n",
            "  [[2 1 3]\n",
            "   [3 3 4]\n",
            "   [3 3 1]]]\n",
            "\n",
            "\n",
            " [[[2 2 1]\n",
            "   [0 4 1]\n",
            "   [2 3 2]]\n",
            "\n",
            "  [[2 1 3]\n",
            "   [4 1 0]\n",
            "   [3 2 3]]\n",
            "\n",
            "  [[1 3 1]\n",
            "   [1 0 4]\n",
            "   [2 3 1]]\n",
            "\n",
            "  [[3 1 3]\n",
            "   [0 4 3]\n",
            "   [3 1 2]]\n",
            "\n",
            "  [[1 3 4]\n",
            "   [4 3 4]\n",
            "   [1 2 0]]\n",
            "\n",
            "  [[3 4 3]\n",
            "   [3 4 3]\n",
            "   [2 0 3]]\n",
            "\n",
            "  [[4 3 3]\n",
            "   [4 3 3]\n",
            "   [0 3 0]]\n",
            "\n",
            "  [[3 3 4]\n",
            "   [3 3 1]\n",
            "   [3 0 3]]]\n",
            "\n",
            "\n",
            " [[[0 4 1]\n",
            "   [2 3 2]\n",
            "   [4 3 0]]\n",
            "\n",
            "  [[4 1 0]\n",
            "   [3 2 3]\n",
            "   [3 0 1]]\n",
            "\n",
            "  [[1 0 4]\n",
            "   [2 3 1]\n",
            "   [0 1 0]]\n",
            "\n",
            "  [[0 4 3]\n",
            "   [3 1 2]\n",
            "   [1 0 2]]\n",
            "\n",
            "  [[4 3 4]\n",
            "   [1 2 0]\n",
            "   [0 2 0]]\n",
            "\n",
            "  [[3 4 3]\n",
            "   [2 0 3]\n",
            "   [2 0 4]]\n",
            "\n",
            "  [[4 3 3]\n",
            "   [0 3 0]\n",
            "   [0 4 0]]\n",
            "\n",
            "  [[3 3 1]\n",
            "   [3 0 3]\n",
            "   [4 0 1]]]\n",
            "\n",
            "\n",
            " [[[2 3 2]\n",
            "   [4 3 0]\n",
            "   [4 1 1]]\n",
            "\n",
            "  [[3 2 3]\n",
            "   [3 0 1]\n",
            "   [1 1 2]]\n",
            "\n",
            "  [[2 3 1]\n",
            "   [0 1 0]\n",
            "   [1 2 3]]\n",
            "\n",
            "  [[3 1 2]\n",
            "   [1 0 2]\n",
            "   [2 3 0]]\n",
            "\n",
            "  [[1 2 0]\n",
            "   [0 2 0]\n",
            "   [3 0 0]]\n",
            "\n",
            "  [[2 0 3]\n",
            "   [2 0 4]\n",
            "   [0 0 0]]\n",
            "\n",
            "  [[0 3 0]\n",
            "   [0 4 0]\n",
            "   [0 0 1]]\n",
            "\n",
            "  [[3 0 3]\n",
            "   [4 0 1]\n",
            "   [0 1 0]]]\n",
            "\n",
            "\n",
            " [[[4 3 0]\n",
            "   [4 1 1]\n",
            "   [0 4 4]]\n",
            "\n",
            "  [[3 0 1]\n",
            "   [1 1 2]\n",
            "   [4 4 4]]\n",
            "\n",
            "  [[0 1 0]\n",
            "   [1 2 3]\n",
            "   [4 4 0]]\n",
            "\n",
            "  [[1 0 2]\n",
            "   [2 3 0]\n",
            "   [4 0 0]]\n",
            "\n",
            "  [[0 2 0]\n",
            "   [3 0 0]\n",
            "   [0 0 1]]\n",
            "\n",
            "  [[2 0 4]\n",
            "   [0 0 0]\n",
            "   [0 1 4]]\n",
            "\n",
            "  [[0 4 0]\n",
            "   [0 0 1]\n",
            "   [1 4 0]]\n",
            "\n",
            "  [[4 0 1]\n",
            "   [0 1 0]\n",
            "   [4 0 4]]]]\n"
          ]
        }
      ],
      "source": [
        "Z = np.random.randint(0,5,(10,10))\n",
        "n = 3\n",
        "i = 1 + (Z.shape[0]-3)\n",
        "j = 1 + (Z.shape[1]-3)\n",
        "C = stride_tricks.as_strided(Z, shape=(i, j, n, n), strides=Z.strides + Z.strides)\n",
        "print(C)\n",
        "Z = np.random.randint(0,5,(10,10))\n",
        "print(sliding_window_view(Z, window_shape=(3, 3)))"
      ]
    },
    {
      "cell_type": "markdown",
      "metadata": {
        "id": "6RG26AbfeRzh"
      },
      "source": [
        "#### 85. Create a 2D array subclass such that Z\\[i,j\\] == Z\\[j,i\\] (★★★) \n",
        "(**hint**: class method)"
      ]
    },
    {
      "cell_type": "code",
      "execution_count": null,
      "metadata": {
        "id": "xPp_k3oOeRzh",
        "colab": {
          "base_uri": "https://localhost:8080/"
        },
        "outputId": "e09c42ff-26f9-45f5-f269-2f32e2fcdd6b"
      },
      "outputs": [
        {
          "output_type": "stream",
          "name": "stdout",
          "text": [
            "[[ 0 16  8 12 10]\n",
            " [16  4  6 12  6]\n",
            " [ 8  6  3 42 10]\n",
            " [12 12 42  3  9]\n",
            " [10  6 10  9  4]]\n"
          ]
        }
      ],
      "source": [
        "class Symetric(np.ndarray):\n",
        "    def __setitem__(self, index, value):\n",
        "        i,j = index\n",
        "        super(Symetric, self).__setitem__((i,j), value)\n",
        "        super(Symetric, self).__setitem__((j,i), value)\n",
        "\n",
        "def symetric(Z):\n",
        "    return np.asarray(Z + Z.T - np.diag(Z.diagonal())).view(Symetric)\n",
        "\n",
        "S = symetric(np.random.randint(0,10,(5,5)))\n",
        "S[2,3] = 42\n",
        "print(S)"
      ]
    },
    {
      "cell_type": "markdown",
      "metadata": {
        "id": "_t9kzSWseRzi"
      },
      "source": [
        "#### 86. Consider a set of p matrices wich shape (n,n) and a set of p vectors with shape (n,1). How to compute the sum of of the p matrix products at once? (result has shape (n,1)) (★★★) \n",
        "(**hint**: np.tensordot)"
      ]
    },
    {
      "cell_type": "code",
      "execution_count": null,
      "metadata": {
        "id": "tTVlYQhneRzi",
        "colab": {
          "base_uri": "https://localhost:8080/"
        },
        "outputId": "6f37f559-6cb8-4c11-ebec-6cc6b02fa31f"
      },
      "outputs": [
        {
          "output_type": "stream",
          "name": "stdout",
          "text": [
            "[[200.]\n",
            " [200.]\n",
            " [200.]\n",
            " [200.]\n",
            " [200.]\n",
            " [200.]\n",
            " [200.]\n",
            " [200.]\n",
            " [200.]\n",
            " [200.]\n",
            " [200.]\n",
            " [200.]\n",
            " [200.]\n",
            " [200.]\n",
            " [200.]\n",
            " [200.]\n",
            " [200.]\n",
            " [200.]\n",
            " [200.]\n",
            " [200.]]\n"
          ]
        }
      ],
      "source": [
        "p, n = 10, 20\n",
        "M = np.ones((p,n,n))\n",
        "V = np.ones((p,n,1))\n",
        "S = np.tensordot(M, V, axes=[[0, 2], [0, 1]])\n",
        "print(S)"
      ]
    },
    {
      "cell_type": "markdown",
      "metadata": {
        "id": "MQx00W2FeRzj"
      },
      "source": [
        "#### 87. Consider a 16x16 array, how to get the block-sum (block size is 4x4)? (★★★) \n",
        "(**hint**: np.add.reduceat)"
      ]
    },
    {
      "cell_type": "code",
      "execution_count": null,
      "metadata": {
        "id": "kBF4VceieRzj",
        "colab": {
          "base_uri": "https://localhost:8080/"
        },
        "outputId": "30004ed9-7925-4d64-ef83-b2a63d0b3c31"
      },
      "outputs": [
        {
          "output_type": "stream",
          "name": "stdout",
          "text": [
            "[[16. 16. 16. 16.]\n",
            " [16. 16. 16. 16.]\n",
            " [16. 16. 16. 16.]\n",
            " [16. 16. 16. 16.]]\n",
            "[[16. 16. 16. 16.]\n",
            " [16. 16. 16. 16.]\n",
            " [16. 16. 16. 16.]\n",
            " [16. 16. 16. 16.]]\n"
          ]
        }
      ],
      "source": [
        "Z = np.ones((16,16))\n",
        "k = 4\n",
        "S = np.add.reduceat(np.add.reduceat(Z, np.arange(0, Z.shape[0], k), axis=0),\n",
        "                                       np.arange(0, Z.shape[1], k), axis=1)\n",
        "print(S)\n",
        "Z = np.ones((16,16))\n",
        "k = 4\n",
        "windows = np.lib.stride_tricks.sliding_window_view(Z, (k, k))\n",
        "S = windows[::k, ::k, ...].sum(axis=(-2, -1))\n",
        "Z = np.ones((16, 16))\n",
        "k = 4\n",
        "print(sliding_window_view(Z, window_shape=(k, k))[::k, ::k].sum(axis=(-2, -1)))"
      ]
    },
    {
      "cell_type": "markdown",
      "metadata": {
        "id": "pTBNgZJDeRzk"
      },
      "source": [
        "#### 88. How to implement the Game of Life using numpy arrays? (★★★)"
      ]
    },
    {
      "cell_type": "code",
      "execution_count": null,
      "metadata": {
        "id": "3kGv2z7FeRzk",
        "colab": {
          "base_uri": "https://localhost:8080/"
        },
        "outputId": "a0b9fe82-35c6-430b-9583-f0194a10d4d0"
      },
      "outputs": [
        {
          "output_type": "stream",
          "name": "stdout",
          "text": [
            "[[0 0 0 ... 0 0 0]\n",
            " [0 0 0 ... 0 0 0]\n",
            " [0 0 0 ... 0 0 0]\n",
            " ...\n",
            " [0 0 0 ... 0 0 0]\n",
            " [0 0 0 ... 0 0 0]\n",
            " [0 0 0 ... 0 0 0]]\n"
          ]
        }
      ],
      "source": [
        "def iterate(Z):\n",
        "    # Count neighbours\n",
        "    N = (Z[0:-2,0:-2] + Z[0:-2,1:-1] + Z[0:-2,2:] +\n",
        "         Z[1:-1,0:-2]                + Z[1:-1,2:] +\n",
        "         Z[2:  ,0:-2] + Z[2:  ,1:-1] + Z[2:  ,2:])\n",
        "\n",
        "    # Apply rules\n",
        "    birth = (N==3) & (Z[1:-1,1:-1]==0)\n",
        "    survive = ((N==2) | (N==3)) & (Z[1:-1,1:-1]==1)\n",
        "    Z[...] = 0\n",
        "    Z[1:-1,1:-1][birth | survive] = 1\n",
        "    return Z\n",
        "\n",
        "Z = np.random.randint(0,2,(50,50))\n",
        "for i in range(100): Z = iterate(Z)\n",
        "print(Z)"
      ]
    },
    {
      "cell_type": "markdown",
      "metadata": {
        "id": "4IxUE3SieRzl"
      },
      "source": [
        "#### 89. How to get the n largest values of an array (★★★) \n",
        "(**hint**: np.argsort | np.argpartition)"
      ]
    },
    {
      "cell_type": "code",
      "execution_count": null,
      "metadata": {
        "id": "yfnptX8qeRzl",
        "colab": {
          "base_uri": "https://localhost:8080/"
        },
        "outputId": "0f73c219-0f9a-4a98-a80c-42cc23aa4755"
      },
      "outputs": [
        {
          "output_type": "stream",
          "name": "stdout",
          "text": [
            "[9995 9996 9997 9998 9999]\n",
            "[9998 9999 9997 9996 9995]\n"
          ]
        }
      ],
      "source": [
        " Z = np.arange(10000)\n",
        "np.random.shuffle(Z)\n",
        "n = 5\n",
        "\n",
        "# Slow\n",
        "print (Z[np.argsort(Z)[-n:]])\n",
        "\n",
        "# Fast\n",
        "print (Z[np.argpartition(-Z,n)[:n]])"
      ]
    },
    {
      "cell_type": "markdown",
      "metadata": {
        "id": "AYlahxEheRzl"
      },
      "source": [
        "#### 90. Given an arbitrary number of vectors, build the cartesian product (every combinations of every item) (★★★) \n",
        "(**hint**: np.indices)"
      ]
    },
    {
      "cell_type": "code",
      "execution_count": null,
      "metadata": {
        "scrolled": true,
        "id": "VI8kM-pjeRzm"
      },
      "outputs": [],
      "source": [
        "def cartesian(arrays):\n",
        "    arrays = [np.asarray(a) for a in arrays]\n",
        "    shape = (len(x) for x in arrays)\n",
        "\n",
        "    ix = np.indices(shape, dtype=int)\n",
        "    ix = ix.reshape(len(arrays), -1).T\n",
        "\n",
        "    for n, arr in enumerate(arrays):\n",
        "        ix[:, n] = arrays[n][ix[:, n]]\n",
        "\n",
        "    return ix\n"
      ]
    },
    {
      "cell_type": "markdown",
      "metadata": {
        "id": "QHcmoRXheRzm"
      },
      "source": [
        "#### 91. How to create a record array from a regular array? (★★★) \n",
        "(**hint**: np.core.records.fromarrays)"
      ]
    },
    {
      "cell_type": "code",
      "execution_count": null,
      "metadata": {
        "id": "qttgC5WLeRzm",
        "colab": {
          "base_uri": "https://localhost:8080/"
        },
        "outputId": "841f6a06-00bc-42d5-ff5f-4451a3086e7f"
      },
      "outputs": [
        {
          "output_type": "stream",
          "name": "stdout",
          "text": [
            "[(b'Hello', 2.5, 3) (b'World', 3.6, 2)]\n"
          ]
        }
      ],
      "source": [
        "Z = np.array([(\"Hello\", 2.5, 3),\n",
        "              (\"World\", 3.6, 2)])\n",
        "R = np.core.records.fromarrays(Z.T,\n",
        "                               names='col1, col2, col3',\n",
        "                               formats = 'S8, f8, i8')\n",
        "print(R)"
      ]
    },
    {
      "cell_type": "markdown",
      "metadata": {
        "id": "tY1HnvVZeRzm"
      },
      "source": [
        "#### 92. Consider a large vector Z, compute Z to the power of 3 using 3 different methods (★★★) \n",
        "(**hint**: np.power, \\*, np.einsum)"
      ]
    },
    {
      "cell_type": "code",
      "execution_count": null,
      "metadata": {
        "id": "QVYVNLhmeRzn",
        "colab": {
          "base_uri": "https://localhost:8080/"
        },
        "outputId": "7dbcf3e6-45b7-4d61-91ec-ededaa78b71d"
      },
      "outputs": [
        {
          "output_type": "stream",
          "name": "stdout",
          "text": [
            "3.88 s ± 240 ms per loop (mean ± std. dev. of 7 runs, 1 loop each)\n",
            "144 ms ± 806 µs per loop (mean ± std. dev. of 7 runs, 10 loops each)\n",
            "125 ms ± 662 µs per loop (mean ± std. dev. of 7 runs, 10 loops each)\n"
          ]
        }
      ],
      "source": [
        "x = np.random.rand(int(5e7))\n",
        "\n",
        "%timeit np.power(x,3)\n",
        "%timeit x*x*x\n",
        "%timeit np.einsum('i,i,i->i',x,x,x)"
      ]
    },
    {
      "cell_type": "markdown",
      "metadata": {
        "id": "hbKP6kV4eRzn"
      },
      "source": [
        "#### 93. Consider two arrays A and B of shape (8,3) and (2,2). How to find rows of A that contain elements of each row of B regardless of the order of the elements in B? (★★★) \n",
        "(**hint**: np.where)"
      ]
    },
    {
      "cell_type": "code",
      "execution_count": null,
      "metadata": {
        "id": "BjCIPQ1meRzn",
        "colab": {
          "base_uri": "https://localhost:8080/"
        },
        "outputId": "38824a53-f96b-4328-ad59-5286475e0632"
      },
      "outputs": [
        {
          "output_type": "stream",
          "name": "stdout",
          "text": [
            "[0 2 3 4 6]\n"
          ]
        }
      ],
      "source": [
        "A = np.random.randint(0,5,(8,3))\n",
        "B = np.random.randint(0,5,(2,2))\n",
        "\n",
        "C = (A[..., np.newaxis, np.newaxis] == B)\n",
        "rows = np.where(C.any((3,1)).all(1))[0]\n",
        "print(rows)"
      ]
    },
    {
      "cell_type": "markdown",
      "metadata": {
        "id": "dlTaPhtLeRzo"
      },
      "source": [
        "#### 94. Considering a 10x3 matrix, extract rows with unequal values (e.g. \\[2,2,3\\]) (★★★)"
      ]
    },
    {
      "cell_type": "code",
      "execution_count": null,
      "metadata": {
        "id": "nGd72DrieRzo",
        "colab": {
          "base_uri": "https://localhost:8080/"
        },
        "outputId": "0773908c-4321-4a2a-8580-f4a3fb8f7020"
      },
      "outputs": [
        {
          "output_type": "stream",
          "name": "stdout",
          "text": [
            "[[1 1 3]\n",
            " [3 2 2]\n",
            " [4 3 1]\n",
            " [1 3 4]\n",
            " [0 2 2]\n",
            " [3 3 0]\n",
            " [2 4 2]\n",
            " [2 3 4]\n",
            " [3 4 4]\n",
            " [0 2 0]]\n",
            "[[1 1 3]\n",
            " [3 2 2]\n",
            " [4 3 1]\n",
            " [1 3 4]\n",
            " [0 2 2]\n",
            " [3 3 0]\n",
            " [2 4 2]\n",
            " [2 3 4]\n",
            " [3 4 4]\n",
            " [0 2 0]]\n",
            "[[1 1 3]\n",
            " [3 2 2]\n",
            " [4 3 1]\n",
            " [1 3 4]\n",
            " [0 2 2]\n",
            " [3 3 0]\n",
            " [2 4 2]\n",
            " [2 3 4]\n",
            " [3 4 4]\n",
            " [0 2 0]]\n"
          ]
        }
      ],
      "source": [
        "Z = np.random.randint(0,5,(10,3))\n",
        "print(Z)\n",
        "# solution for arrays of all dtypes (including string arrays and record arrays)\n",
        "E = np.all(Z[:,1:] == Z[:,:-1], axis=1)\n",
        "U = Z[~E]\n",
        "print(U)\n",
        "# soluiton for numerical arrays only, will work for any number of columns in Z\n",
        "U = Z[Z.max(axis=1) != Z.min(axis=1),:]\n",
        "print(U)"
      ]
    },
    {
      "cell_type": "markdown",
      "metadata": {
        "id": "mIOLAssveRzo"
      },
      "source": [
        "#### 95. Convert a vector of ints into a matrix binary representation (★★★) \n",
        "(**hint**: np.unpackbits)"
      ]
    },
    {
      "cell_type": "code",
      "execution_count": null,
      "metadata": {
        "id": "NofOOroweRzo",
        "colab": {
          "base_uri": "https://localhost:8080/"
        },
        "outputId": "dcf5dec2-d7ee-45b4-d21a-1bbb512b1a60"
      },
      "outputs": [
        {
          "output_type": "stream",
          "name": "stdout",
          "text": [
            "[[0 0 0 0 0 0 0 0]\n",
            " [0 0 0 0 0 0 0 1]\n",
            " [0 0 0 0 0 0 1 0]\n",
            " [0 0 0 0 0 0 1 1]\n",
            " [0 0 0 0 1 1 1 1]\n",
            " [0 0 0 1 0 0 0 0]\n",
            " [0 0 1 0 0 0 0 0]\n",
            " [0 1 0 0 0 0 0 0]\n",
            " [1 0 0 0 0 0 0 0]]\n",
            "[[0 0 0 0 0 0 0 0]\n",
            " [0 0 0 0 0 0 0 1]\n",
            " [0 0 0 0 0 0 1 0]\n",
            " [0 0 0 0 0 0 1 1]\n",
            " [0 0 0 0 1 1 1 1]\n",
            " [0 0 0 1 0 0 0 0]\n",
            " [0 0 1 0 0 0 0 0]\n",
            " [0 1 0 0 0 0 0 0]\n",
            " [1 0 0 0 0 0 0 0]]\n"
          ]
        }
      ],
      "source": [
        "I = np.array([0, 1, 2, 3, 15, 16, 32, 64, 128])\n",
        "B = ((I.reshape(-1,1) & (2**np.arange(8))) != 0).astype(int)\n",
        "print(B[:,::-1])\n",
        "I = np.array([0, 1, 2, 3, 15, 16, 32, 64, 128], dtype=np.uint8)\n",
        "print(np.unpackbits(I[:, np.newaxis], axis=1))"
      ]
    },
    {
      "cell_type": "markdown",
      "metadata": {
        "id": "m90faR8TeRzo"
      },
      "source": [
        "#### 96. Given a two dimensional array, how to extract unique rows? (★★★) \n",
        "(**hint**: np.ascontiguousarray)"
      ]
    },
    {
      "cell_type": "code",
      "execution_count": null,
      "metadata": {
        "id": "dOjiJmN-eRzp",
        "colab": {
          "base_uri": "https://localhost:8080/"
        },
        "outputId": "b0a09a8a-8582-4d4b-db61-25015c7bd43d"
      },
      "outputs": [
        {
          "output_type": "stream",
          "name": "stdout",
          "text": [
            "[[0 0 0]\n",
            " [0 1 0]\n",
            " [1 0 0]\n",
            " [1 1 1]]\n",
            "[[0 0 0]\n",
            " [0 1 0]\n",
            " [1 0 0]\n",
            " [1 1 1]]\n"
          ]
        }
      ],
      "source": [
        "Z = np.random.randint(0,2,(6,3))\n",
        "T = np.ascontiguousarray(Z).view(np.dtype((np.void, Z.dtype.itemsize * Z.shape[1])))\n",
        "_, idx = np.unique(T, return_index=True)\n",
        "uZ = Z[idx]\n",
        "print(uZ)\n",
        "uZ = np.unique(Z, axis=0)\n",
        "print(uZ)"
      ]
    },
    {
      "cell_type": "markdown",
      "metadata": {
        "id": "hgWzD4SNeRzp"
      },
      "source": [
        "#### 97. Considering 2 vectors A & B, write the einsum equivalent of inner, outer, sum, and mul function (★★★) \n",
        "(**hint**: np.einsum)"
      ]
    },
    {
      "cell_type": "code",
      "execution_count": null,
      "metadata": {
        "id": "VWarALqneRzq",
        "colab": {
          "base_uri": "https://localhost:8080/"
        },
        "outputId": "9aea0370-8633-461b-fa79-e01d779bf7b9"
      },
      "outputs": [
        {
          "output_type": "execute_result",
          "data": {
            "text/plain": [
              "array([[3.79066686e-02, 2.53983003e-04, 7.82799242e-02, 1.07254975e-01,\n",
              "        2.07906602e-02, 1.36163041e-01, 7.54182457e-02, 5.74081375e-02,\n",
              "        2.00503933e-01, 2.15009755e-01],\n",
              "       [1.82285020e-02, 1.22134966e-04, 3.76431327e-02, 5.15766119e-02,\n",
              "        9.99778154e-03, 6.54778790e-02, 3.62670130e-02, 2.76063392e-02,\n",
              "        9.64180307e-02, 1.03393569e-01],\n",
              "       [7.49207637e-02, 5.01985569e-04, 1.54716622e-01, 2.11984460e-01,\n",
              "        4.10917710e-02, 2.69119904e-01, 1.49060648e-01, 1.13464508e-01,\n",
              "        3.96286678e-01, 4.24956760e-01],\n",
              "       [4.79215054e-02, 3.21084609e-04, 9.89612634e-02, 1.35591443e-01,\n",
              "        2.62834951e-02, 1.72136939e-01, 9.53435373e-02, 7.25752085e-02,\n",
              "        2.53476516e-01, 2.71814737e-01],\n",
              "       [1.57687755e-01, 1.05654259e-03, 3.25636254e-01, 4.46169420e-01,\n",
              "        8.64869604e-02, 5.66423932e-01, 3.13731972e-01, 2.38811816e-01,\n",
              "        8.34075276e-01, 8.94417973e-01],\n",
              "       [1.09932689e-01, 7.36573158e-04, 2.27018699e-01, 3.11048908e-01,\n",
              "        6.02947523e-02, 3.94884853e-01, 2.18719578e-01, 1.66488673e-01,\n",
              "        5.81479126e-01, 6.23547294e-01],\n",
              "       [4.53438347e-02, 3.03813650e-04, 9.36381930e-02, 1.28298056e-01,\n",
              "        2.48697207e-02, 1.62877790e-01, 9.02150623e-02, 6.86714290e-02,\n",
              "        2.39842158e-01, 2.57193976e-01],\n",
              "       [1.25918666e-01, 8.43682715e-04, 2.60030861e-01, 3.56280411e-01,\n",
              "        6.90625768e-02, 4.52307447e-01, 2.50524915e-01, 1.90698798e-01,\n",
              "        6.66035522e-01, 7.14221076e-01],\n",
              "       [9.20469624e-02, 6.16734861e-04, 1.90083421e-01, 2.60442161e-01,\n",
              "        5.04849725e-02, 3.30638243e-01, 1.83134543e-01, 1.39401453e-01,\n",
              "        4.86874174e-01, 5.22097974e-01],\n",
              "       [4.92355417e-02, 3.29888941e-04, 1.01674840e-01, 1.39309441e-01,\n",
              "        2.70042042e-02, 1.76857037e-01, 9.79579141e-02, 7.45652640e-02,\n",
              "        2.60426994e-01, 2.79268060e-01]])"
            ]
          },
          "metadata": {},
          "execution_count": 57
        }
      ],
      "source": [
        "A = np.random.uniform(0,1,10)\n",
        "B = np.random.uniform(0,1,10)\n",
        "\n",
        "np.einsum('i->', A)       # np.sum(A)\n",
        "np.einsum('i,i->i', A, B) # A * B\n",
        "np.einsum('i,i', A, B)    # np.inner(A, B)\n",
        "np.einsum('i,j->ij', A, B)    # np.outer(A, B)"
      ]
    },
    {
      "cell_type": "markdown",
      "metadata": {
        "id": "P8twH3MTeRzr"
      },
      "source": [
        "#### 98. Considering a path described by two vectors (X,Y), how to sample it using equidistant samples (★★★)? \n",
        "(**hint**: np.cumsum, np.interp)"
      ]
    },
    {
      "cell_type": "code",
      "execution_count": null,
      "metadata": {
        "collapsed": true,
        "id": "q1UL_vyXeRzr"
      },
      "outputs": [],
      "source": [
        "phi = np.arange(0, 10*np.pi, 0.1)\n",
        "a = 1\n",
        "x = a*phi*np.cos(phi)\n",
        "y = a*phi*np.sin(phi)\n",
        "\n",
        "dr = (np.diff(x)**2 + np.diff(y)**2)**.5 # segment lengths\n",
        "r = np.zeros_like(x)\n",
        "r[1:] = np.cumsum(dr)                # integrate path\n",
        "r_int = np.linspace(0, r.max(), 200) # regular spaced path\n",
        "x_int = np.interp(r_int, r, x)       # integrate path\n",
        "y_int = np.interp(r_int, r, y)"
      ]
    },
    {
      "cell_type": "markdown",
      "metadata": {
        "id": "DuIvGtkLeRzs"
      },
      "source": [
        "#### 99. Given an integer n and a 2D array X, select from X the rows which can be interpreted as draws from a multinomial distribution with n degrees, i.e., the rows which only contain integers and which sum to n. (★★★) \n",
        "(**hint**: np.logical\\_and.reduce, np.mod)"
      ]
    },
    {
      "cell_type": "code",
      "execution_count": null,
      "metadata": {
        "id": "JNintg8ceRzs",
        "colab": {
          "base_uri": "https://localhost:8080/"
        },
        "outputId": "6b04d431-f414-48ca-9c65-01486b13081b"
      },
      "outputs": [
        {
          "output_type": "stream",
          "name": "stdout",
          "text": [
            "[[2. 0. 1. 1.]]\n"
          ]
        }
      ],
      "source": [
        "X = np.asarray([[1.0, 0.0, 3.0, 8.0],\n",
        "                [2.0, 0.0, 1.0, 1.0],\n",
        "                [1.5, 2.5, 1.0, 0.0]])\n",
        "n = 4\n",
        "M = np.logical_and.reduce(np.mod(X, 1) == 0, axis=-1)\n",
        "M &= (X.sum(axis=-1) == n)\n",
        "print(X[M])"
      ]
    },
    {
      "cell_type": "markdown",
      "metadata": {
        "id": "2kpyxmzceRzs"
      },
      "source": [
        "#### 100. Compute bootstrapped 95% confidence intervals for the mean of a 1D array X (i.e., resample the elements of an array with replacement N times, compute the mean of each sample, and then compute percentiles over the means). (★★★) \n",
        "(**hint**: np.percentile)"
      ]
    },
    {
      "cell_type": "code",
      "execution_count": null,
      "metadata": {
        "id": "-i4gzHmleRzt",
        "colab": {
          "base_uri": "https://localhost:8080/"
        },
        "outputId": "57550f12-ad65-4e1d-e32c-7a2e6c1e64b0"
      },
      "outputs": [
        {
          "output_type": "stream",
          "name": "stdout",
          "text": [
            "[-0.12259012  0.29737675]\n"
          ]
        }
      ],
      "source": [
        "X = np.random.randn(100) # random 1D array\n",
        "N = 1000 # number of bootstrap samples\n",
        "idx = np.random.randint(0, X.size, (N, X.size))\n",
        "means = X[idx].mean(axis=1)\n",
        "confint = np.percentile(means, [2.5, 97.5])\n",
        "print(confint)"
      ]
    }
  ],
  "metadata": {
    "kernelspec": {
      "display_name": "Python 3",
      "language": "python",
      "name": "python3"
    },
    "language_info": {
      "codemirror_mode": {
        "name": "ipython",
        "version": 3
      },
      "file_extension": ".py",
      "mimetype": "text/x-python",
      "name": "python",
      "nbconvert_exporter": "python",
      "pygments_lexer": "ipython3",
      "version": "3.8.3"
    },
    "colab": {
      "provenance": [],
      "collapsed_sections": []
    }
  },
  "nbformat": 4,
  "nbformat_minor": 0
}