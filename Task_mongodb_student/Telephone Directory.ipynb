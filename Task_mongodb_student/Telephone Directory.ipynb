{
 "cells": [
  {
   "cell_type": "code",
   "execution_count": 19,
   "id": "c29ee474",
   "metadata": {},
   "outputs": [
    {
     "name": "stdout",
     "output_type": "stream",
     "text": [
      "Enter 1 for Register\n",
      "Enter 2 for search\n",
      "Enter 3 for Delete\n",
      "Enter 4 for view\n",
      "OOPS! invalid option try 1-4\n",
      "65\n",
      "Press 1-4\n"
     ]
    }
   ],
   "source": [
    "from pymongo import MongoClient\n",
    "import pandas as pd\n",
    "Nithish=MongoClient(\"your connection\") \n",
    "\n",
    "db = Nithish.Telephone\n",
    "col = db.People\n",
    "\n",
    "inp= input(\"Enter 1 for Register\\nEnter 2 for search\\nEnter 3 for Delete\\nEnter 4 for view\\nOOPS! invalid option try 1-4\\n\")\n",
    "\n",
    "if inp=='1':\n",
    "    a={\n",
    "    'Name': input(\"enter the name:\"),\n",
    "    \"phone\":input(\"enter the number:\"),\n",
    "    \"place\":input(\"enter the place:\")\n",
    "}\n",
    "    temp = col.insert_one(a),\n",
    "    if temp != None:\n",
    "        print('Successfully Contact Saved')\n",
    "    else:\n",
    "        print('Not Saved please try again')\n",
    "\n",
    "if inp==\"2\":\n",
    "    b=input(\"Enter the Name\")\n",
    "    temp1=col.find({\"Name\":b})\n",
    "    df=pd.DataFrame(temp1)\n",
    "    print(df)\n",
    "if inp==\"3\":\n",
    "    c=input(\"Enter the Name\")\n",
    "    temp2=col.delete_one({\"Name\":c})\n",
    "    if temp2!=None:\n",
    "        print(\"Deleted successfully\")\n",
    "    else:\n",
    "        print(\"Data is not found\")\n",
    "if inp==\"4\":\n",
    "    temp3=col.find()\n",
    "    df1=pd.DataFrame(temp3)\n",
    "    print(df1)\n",
    "else:\n",
    "    print(\"Press 1-4\")"
   ]
  }
 ],
 "metadata": {
  "kernelspec": {
   "display_name": "Python 3 (ipykernel)",
   "language": "python",
   "name": "python3"
  },
  "language_info": {
   "codemirror_mode": {
    "name": "ipython",
    "version": 3
   },
   "file_extension": ".py",
   "mimetype": "text/x-python",
   "name": "python",
   "nbconvert_exporter": "python",
   "pygments_lexer": "ipython3",
   "version": "3.9.13"
  }
 },
 "nbformat": 4,
 "nbformat_minor": 5
}
